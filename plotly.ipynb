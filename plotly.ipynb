{
 "cells": [
  {
   "cell_type": "code",
   "execution_count": 250,
   "metadata": {},
   "outputs": [],
   "source": [
    "import pandas as pd\n",
    "import plotly.express as px\n",
    "import plotly.graph_objects as go \n",
    "\n"
   ]
  },
  {
   "cell_type": "code",
   "execution_count": 251,
   "metadata": {},
   "outputs": [],
   "source": [
    "xls = pd.ExcelFile(\n",
    "    # \"./data/Student and Faculty Commons Survey_February 16, 2022_09.17.xlsx\"\n",
    "    \"./data/temp.xlsx\"\n",
    ")\n",
    "\n",
    "data = pd.read_excel( xls, \"Sheet1\" )\n",
    "\n",
    "# print(data[\"Q36\"])"
   ]
  },
  {
   "cell_type": "code",
   "execution_count": 252,
   "metadata": {},
   "outputs": [
    {
     "data": {
      "application/vnd.plotly.v1+json": {
       "config": {
        "plotlyServerURL": "https://plot.ly"
       },
       "data": [
        {
         "branchvalues": "total",
         "domain": {
          "x": [
           0,
           1
          ],
          "y": [
           0,
           1
          ]
         },
         "hovertemplate": "labels=%{label}<br>num=%{value}<br>parent=%{parent}<br>id=%{id}<extra></extra>",
         "ids": [
          "option2/black",
          "option4/black",
          "option1/white",
          "option3/white",
          "option4/white",
          "option1",
          "option2",
          "option3",
          "option4"
         ],
         "labels": [
          "black",
          "black",
          "white",
          "white",
          "white",
          "option1",
          "option2",
          "option3",
          "option4"
         ],
         "name": "",
         "parents": [
          "option2",
          "option4",
          "option1",
          "option3",
          "option4",
          "",
          "",
          "",
          ""
         ],
         "type": "sunburst",
         "values": [
          2,
          2,
          2,
          2,
          2,
          2,
          2,
          2,
          4
         ]
        },
        {
         "branchvalues": "total",
         "domain": {
          "x": [
           0,
           1
          ],
          "y": [
           0,
           1
          ]
         },
         "hovertemplate": "labels=%{label}<br>num=%{value}<br>parent=%{parent}<br>id=%{id}<extra></extra>",
         "ids": [
          "option2/female",
          "option1/man",
          "option3/man",
          "option4/man",
          "option1",
          "option2",
          "option3",
          "option4"
         ],
         "labels": [
          "female",
          "man",
          "man",
          "man",
          "option1",
          "option2",
          "option3",
          "option4"
         ],
         "name": "",
         "parents": [
          "option2",
          "option1",
          "option3",
          "option4",
          "",
          "",
          "",
          ""
         ],
         "type": "sunburst",
         "values": [
          2,
          2,
          2,
          4,
          2,
          2,
          2,
          4
         ]
        }
       ],
       "layout": {
        "template": {
         "data": {
          "bar": [
           {
            "error_x": {
             "color": "#2a3f5f"
            },
            "error_y": {
             "color": "#2a3f5f"
            },
            "marker": {
             "line": {
              "color": "#E5ECF6",
              "width": 0.5
             },
             "pattern": {
              "fillmode": "overlay",
              "size": 10,
              "solidity": 0.2
             }
            },
            "type": "bar"
           }
          ],
          "barpolar": [
           {
            "marker": {
             "line": {
              "color": "#E5ECF6",
              "width": 0.5
             },
             "pattern": {
              "fillmode": "overlay",
              "size": 10,
              "solidity": 0.2
             }
            },
            "type": "barpolar"
           }
          ],
          "carpet": [
           {
            "aaxis": {
             "endlinecolor": "#2a3f5f",
             "gridcolor": "white",
             "linecolor": "white",
             "minorgridcolor": "white",
             "startlinecolor": "#2a3f5f"
            },
            "baxis": {
             "endlinecolor": "#2a3f5f",
             "gridcolor": "white",
             "linecolor": "white",
             "minorgridcolor": "white",
             "startlinecolor": "#2a3f5f"
            },
            "type": "carpet"
           }
          ],
          "choropleth": [
           {
            "colorbar": {
             "outlinewidth": 0,
             "ticks": ""
            },
            "type": "choropleth"
           }
          ],
          "contour": [
           {
            "colorbar": {
             "outlinewidth": 0,
             "ticks": ""
            },
            "colorscale": [
             [
              0,
              "#0d0887"
             ],
             [
              0.1111111111111111,
              "#46039f"
             ],
             [
              0.2222222222222222,
              "#7201a8"
             ],
             [
              0.3333333333333333,
              "#9c179e"
             ],
             [
              0.4444444444444444,
              "#bd3786"
             ],
             [
              0.5555555555555556,
              "#d8576b"
             ],
             [
              0.6666666666666666,
              "#ed7953"
             ],
             [
              0.7777777777777778,
              "#fb9f3a"
             ],
             [
              0.8888888888888888,
              "#fdca26"
             ],
             [
              1,
              "#f0f921"
             ]
            ],
            "type": "contour"
           }
          ],
          "contourcarpet": [
           {
            "colorbar": {
             "outlinewidth": 0,
             "ticks": ""
            },
            "type": "contourcarpet"
           }
          ],
          "heatmap": [
           {
            "colorbar": {
             "outlinewidth": 0,
             "ticks": ""
            },
            "colorscale": [
             [
              0,
              "#0d0887"
             ],
             [
              0.1111111111111111,
              "#46039f"
             ],
             [
              0.2222222222222222,
              "#7201a8"
             ],
             [
              0.3333333333333333,
              "#9c179e"
             ],
             [
              0.4444444444444444,
              "#bd3786"
             ],
             [
              0.5555555555555556,
              "#d8576b"
             ],
             [
              0.6666666666666666,
              "#ed7953"
             ],
             [
              0.7777777777777778,
              "#fb9f3a"
             ],
             [
              0.8888888888888888,
              "#fdca26"
             ],
             [
              1,
              "#f0f921"
             ]
            ],
            "type": "heatmap"
           }
          ],
          "heatmapgl": [
           {
            "colorbar": {
             "outlinewidth": 0,
             "ticks": ""
            },
            "colorscale": [
             [
              0,
              "#0d0887"
             ],
             [
              0.1111111111111111,
              "#46039f"
             ],
             [
              0.2222222222222222,
              "#7201a8"
             ],
             [
              0.3333333333333333,
              "#9c179e"
             ],
             [
              0.4444444444444444,
              "#bd3786"
             ],
             [
              0.5555555555555556,
              "#d8576b"
             ],
             [
              0.6666666666666666,
              "#ed7953"
             ],
             [
              0.7777777777777778,
              "#fb9f3a"
             ],
             [
              0.8888888888888888,
              "#fdca26"
             ],
             [
              1,
              "#f0f921"
             ]
            ],
            "type": "heatmapgl"
           }
          ],
          "histogram": [
           {
            "marker": {
             "pattern": {
              "fillmode": "overlay",
              "size": 10,
              "solidity": 0.2
             }
            },
            "type": "histogram"
           }
          ],
          "histogram2d": [
           {
            "colorbar": {
             "outlinewidth": 0,
             "ticks": ""
            },
            "colorscale": [
             [
              0,
              "#0d0887"
             ],
             [
              0.1111111111111111,
              "#46039f"
             ],
             [
              0.2222222222222222,
              "#7201a8"
             ],
             [
              0.3333333333333333,
              "#9c179e"
             ],
             [
              0.4444444444444444,
              "#bd3786"
             ],
             [
              0.5555555555555556,
              "#d8576b"
             ],
             [
              0.6666666666666666,
              "#ed7953"
             ],
             [
              0.7777777777777778,
              "#fb9f3a"
             ],
             [
              0.8888888888888888,
              "#fdca26"
             ],
             [
              1,
              "#f0f921"
             ]
            ],
            "type": "histogram2d"
           }
          ],
          "histogram2dcontour": [
           {
            "colorbar": {
             "outlinewidth": 0,
             "ticks": ""
            },
            "colorscale": [
             [
              0,
              "#0d0887"
             ],
             [
              0.1111111111111111,
              "#46039f"
             ],
             [
              0.2222222222222222,
              "#7201a8"
             ],
             [
              0.3333333333333333,
              "#9c179e"
             ],
             [
              0.4444444444444444,
              "#bd3786"
             ],
             [
              0.5555555555555556,
              "#d8576b"
             ],
             [
              0.6666666666666666,
              "#ed7953"
             ],
             [
              0.7777777777777778,
              "#fb9f3a"
             ],
             [
              0.8888888888888888,
              "#fdca26"
             ],
             [
              1,
              "#f0f921"
             ]
            ],
            "type": "histogram2dcontour"
           }
          ],
          "mesh3d": [
           {
            "colorbar": {
             "outlinewidth": 0,
             "ticks": ""
            },
            "type": "mesh3d"
           }
          ],
          "parcoords": [
           {
            "line": {
             "colorbar": {
              "outlinewidth": 0,
              "ticks": ""
             }
            },
            "type": "parcoords"
           }
          ],
          "pie": [
           {
            "automargin": true,
            "type": "pie"
           }
          ],
          "scatter": [
           {
            "marker": {
             "colorbar": {
              "outlinewidth": 0,
              "ticks": ""
             }
            },
            "type": "scatter"
           }
          ],
          "scatter3d": [
           {
            "line": {
             "colorbar": {
              "outlinewidth": 0,
              "ticks": ""
             }
            },
            "marker": {
             "colorbar": {
              "outlinewidth": 0,
              "ticks": ""
             }
            },
            "type": "scatter3d"
           }
          ],
          "scattercarpet": [
           {
            "marker": {
             "colorbar": {
              "outlinewidth": 0,
              "ticks": ""
             }
            },
            "type": "scattercarpet"
           }
          ],
          "scattergeo": [
           {
            "marker": {
             "colorbar": {
              "outlinewidth": 0,
              "ticks": ""
             }
            },
            "type": "scattergeo"
           }
          ],
          "scattergl": [
           {
            "marker": {
             "colorbar": {
              "outlinewidth": 0,
              "ticks": ""
             }
            },
            "type": "scattergl"
           }
          ],
          "scattermapbox": [
           {
            "marker": {
             "colorbar": {
              "outlinewidth": 0,
              "ticks": ""
             }
            },
            "type": "scattermapbox"
           }
          ],
          "scatterpolar": [
           {
            "marker": {
             "colorbar": {
              "outlinewidth": 0,
              "ticks": ""
             }
            },
            "type": "scatterpolar"
           }
          ],
          "scatterpolargl": [
           {
            "marker": {
             "colorbar": {
              "outlinewidth": 0,
              "ticks": ""
             }
            },
            "type": "scatterpolargl"
           }
          ],
          "scatterternary": [
           {
            "marker": {
             "colorbar": {
              "outlinewidth": 0,
              "ticks": ""
             }
            },
            "type": "scatterternary"
           }
          ],
          "surface": [
           {
            "colorbar": {
             "outlinewidth": 0,
             "ticks": ""
            },
            "colorscale": [
             [
              0,
              "#0d0887"
             ],
             [
              0.1111111111111111,
              "#46039f"
             ],
             [
              0.2222222222222222,
              "#7201a8"
             ],
             [
              0.3333333333333333,
              "#9c179e"
             ],
             [
              0.4444444444444444,
              "#bd3786"
             ],
             [
              0.5555555555555556,
              "#d8576b"
             ],
             [
              0.6666666666666666,
              "#ed7953"
             ],
             [
              0.7777777777777778,
              "#fb9f3a"
             ],
             [
              0.8888888888888888,
              "#fdca26"
             ],
             [
              1,
              "#f0f921"
             ]
            ],
            "type": "surface"
           }
          ],
          "table": [
           {
            "cells": {
             "fill": {
              "color": "#EBF0F8"
             },
             "line": {
              "color": "white"
             }
            },
            "header": {
             "fill": {
              "color": "#C8D4E3"
             },
             "line": {
              "color": "white"
             }
            },
            "type": "table"
           }
          ]
         },
         "layout": {
          "annotationdefaults": {
           "arrowcolor": "#2a3f5f",
           "arrowhead": 0,
           "arrowwidth": 1
          },
          "autotypenumbers": "strict",
          "coloraxis": {
           "colorbar": {
            "outlinewidth": 0,
            "ticks": ""
           }
          },
          "colorscale": {
           "diverging": [
            [
             0,
             "#8e0152"
            ],
            [
             0.1,
             "#c51b7d"
            ],
            [
             0.2,
             "#de77ae"
            ],
            [
             0.3,
             "#f1b6da"
            ],
            [
             0.4,
             "#fde0ef"
            ],
            [
             0.5,
             "#f7f7f7"
            ],
            [
             0.6,
             "#e6f5d0"
            ],
            [
             0.7,
             "#b8e186"
            ],
            [
             0.8,
             "#7fbc41"
            ],
            [
             0.9,
             "#4d9221"
            ],
            [
             1,
             "#276419"
            ]
           ],
           "sequential": [
            [
             0,
             "#0d0887"
            ],
            [
             0.1111111111111111,
             "#46039f"
            ],
            [
             0.2222222222222222,
             "#7201a8"
            ],
            [
             0.3333333333333333,
             "#9c179e"
            ],
            [
             0.4444444444444444,
             "#bd3786"
            ],
            [
             0.5555555555555556,
             "#d8576b"
            ],
            [
             0.6666666666666666,
             "#ed7953"
            ],
            [
             0.7777777777777778,
             "#fb9f3a"
            ],
            [
             0.8888888888888888,
             "#fdca26"
            ],
            [
             1,
             "#f0f921"
            ]
           ],
           "sequentialminus": [
            [
             0,
             "#0d0887"
            ],
            [
             0.1111111111111111,
             "#46039f"
            ],
            [
             0.2222222222222222,
             "#7201a8"
            ],
            [
             0.3333333333333333,
             "#9c179e"
            ],
            [
             0.4444444444444444,
             "#bd3786"
            ],
            [
             0.5555555555555556,
             "#d8576b"
            ],
            [
             0.6666666666666666,
             "#ed7953"
            ],
            [
             0.7777777777777778,
             "#fb9f3a"
            ],
            [
             0.8888888888888888,
             "#fdca26"
            ],
            [
             1,
             "#f0f921"
            ]
           ]
          },
          "colorway": [
           "#636efa",
           "#EF553B",
           "#00cc96",
           "#ab63fa",
           "#FFA15A",
           "#19d3f3",
           "#FF6692",
           "#B6E880",
           "#FF97FF",
           "#FECB52"
          ],
          "font": {
           "color": "#2a3f5f"
          },
          "geo": {
           "bgcolor": "white",
           "lakecolor": "white",
           "landcolor": "#E5ECF6",
           "showlakes": true,
           "showland": true,
           "subunitcolor": "white"
          },
          "hoverlabel": {
           "align": "left"
          },
          "hovermode": "closest",
          "mapbox": {
           "style": "light"
          },
          "paper_bgcolor": "white",
          "plot_bgcolor": "#E5ECF6",
          "polar": {
           "angularaxis": {
            "gridcolor": "white",
            "linecolor": "white",
            "ticks": ""
           },
           "bgcolor": "#E5ECF6",
           "radialaxis": {
            "gridcolor": "white",
            "linecolor": "white",
            "ticks": ""
           }
          },
          "scene": {
           "xaxis": {
            "backgroundcolor": "#E5ECF6",
            "gridcolor": "white",
            "gridwidth": 2,
            "linecolor": "white",
            "showbackground": true,
            "ticks": "",
            "zerolinecolor": "white"
           },
           "yaxis": {
            "backgroundcolor": "#E5ECF6",
            "gridcolor": "white",
            "gridwidth": 2,
            "linecolor": "white",
            "showbackground": true,
            "ticks": "",
            "zerolinecolor": "white"
           },
           "zaxis": {
            "backgroundcolor": "#E5ECF6",
            "gridcolor": "white",
            "gridwidth": 2,
            "linecolor": "white",
            "showbackground": true,
            "ticks": "",
            "zerolinecolor": "white"
           }
          },
          "shapedefaults": {
           "line": {
            "color": "#2a3f5f"
           }
          },
          "ternary": {
           "aaxis": {
            "gridcolor": "white",
            "linecolor": "white",
            "ticks": ""
           },
           "baxis": {
            "gridcolor": "white",
            "linecolor": "white",
            "ticks": ""
           },
           "bgcolor": "#E5ECF6",
           "caxis": {
            "gridcolor": "white",
            "linecolor": "white",
            "ticks": ""
           }
          },
          "title": {
           "x": 0.05
          },
          "xaxis": {
           "automargin": true,
           "gridcolor": "white",
           "linecolor": "white",
           "ticks": "",
           "title": {
            "standoff": 15
           },
           "zerolinecolor": "white",
           "zerolinewidth": 2
          },
          "yaxis": {
           "automargin": true,
           "gridcolor": "white",
           "linecolor": "white",
           "ticks": "",
           "title": {
            "standoff": 15
           },
           "zerolinecolor": "white",
           "zerolinewidth": 2
          }
         }
        },
        "updatemenus": [
         {
          "active": 0,
          "buttons": [
           {
            "args": [
             {
              "visible": [
               true,
               false
              ]
             },
             {
              "title": "Race"
             }
            ],
            "label": "Race",
            "method": "update"
           },
           {
            "args": [
             {
              "visible": [
               false,
               true
              ]
             },
             {
              "title": "Gender"
             }
            ],
            "label": "Gender",
            "method": "update"
           }
          ],
          "direction": "down",
          "x": 0.57,
          "y": 1.2
         }
        ]
       }
      }
     },
     "metadata": {},
     "output_type": "display_data"
    }
   ],
   "source": [
    "fig = go.Figure()\n",
    "\n",
    "fig.add_trace(\n",
    "    px.sunburst(data, path=[\"test\", \"race\"], values = \"num\").data[0]\n",
    ")\n",
    "\n",
    "fig.add_trace(\n",
    "    px.sunburst(data, path=[\"test\", \"gender\"], values = \"num\").data[0]\n",
    ")\n",
    "\n",
    "\n",
    "fig.update_layout(\n",
    "    updatemenus=[\n",
    "        dict(\n",
    "        \n",
    "            direction=\"down\",\n",
    "            active=0,\n",
    "            x=0.57,\n",
    "            y=1.2,\n",
    "            buttons=list([\n",
    "                dict(label=\"Race\",\n",
    "                     method=\"update\",\n",
    "                     args=[{\"visible\": [True, False]},\n",
    "                           {\"title\": \"Race\",}]),\n",
    "                dict(label=\"Gender\",\n",
    "                     method=\"update\",\n",
    "                     args=[{\"visible\": [False, True]},\n",
    "                           {\"title\": \"Gender\"}]),\n",
    "            ]),\n",
    "        )\n",
    "    ])\n",
    "\n",
    "\n",
    "\n",
    "\n"
   ]
  },
  {
   "cell_type": "code",
   "execution_count": 253,
   "metadata": {},
   "outputs": [
    {
     "ename": "AttributeError",
     "evalue": "'DataFrame' object has no attribute 'High'",
     "output_type": "error",
     "traceback": [
      "\u001b[0;31m---------------------------------------------------------------------------\u001b[0m",
      "\u001b[0;31mAttributeError\u001b[0m                            Traceback (most recent call last)",
      "\u001b[0;32m/var/folders/jz/skkbp9s113zc0j5qzqjqv7240000gn/T/ipykernel_41067/780537504.py\u001b[0m in \u001b[0;36m<module>\u001b[0;34m\u001b[0m\n\u001b[1;32m      8\u001b[0m fig.add_trace(\n\u001b[1;32m      9\u001b[0m     go.Pie(x=list(df.index),\n\u001b[0;32m---> 10\u001b[0;31m                \u001b[0my\u001b[0m\u001b[0;34m=\u001b[0m\u001b[0mlist\u001b[0m\u001b[0;34m(\u001b[0m\u001b[0mdf\u001b[0m\u001b[0;34m.\u001b[0m\u001b[0mHigh\u001b[0m\u001b[0;34m)\u001b[0m\u001b[0;34m,\u001b[0m\u001b[0;34m\u001b[0m\u001b[0;34m\u001b[0m\u001b[0m\n\u001b[0m\u001b[1;32m     11\u001b[0m                \u001b[0mname\u001b[0m\u001b[0;34m=\u001b[0m\u001b[0;34m\"High\"\u001b[0m\u001b[0;34m,\u001b[0m\u001b[0;34m\u001b[0m\u001b[0;34m\u001b[0m\u001b[0m\n\u001b[1;32m     12\u001b[0m                line=dict(color=\"#33CFA5\")))\n",
      "\u001b[0;32m~/opt/miniconda3/envs/CSC630/lib/python3.9/site-packages/pandas/core/generic.py\u001b[0m in \u001b[0;36m__getattr__\u001b[0;34m(self, name)\u001b[0m\n\u001b[1;32m   5485\u001b[0m         ):\n\u001b[1;32m   5486\u001b[0m             \u001b[0;32mreturn\u001b[0m \u001b[0mself\u001b[0m\u001b[0;34m[\u001b[0m\u001b[0mname\u001b[0m\u001b[0;34m]\u001b[0m\u001b[0;34m\u001b[0m\u001b[0;34m\u001b[0m\u001b[0m\n\u001b[0;32m-> 5487\u001b[0;31m         \u001b[0;32mreturn\u001b[0m \u001b[0mobject\u001b[0m\u001b[0;34m.\u001b[0m\u001b[0m__getattribute__\u001b[0m\u001b[0;34m(\u001b[0m\u001b[0mself\u001b[0m\u001b[0;34m,\u001b[0m \u001b[0mname\u001b[0m\u001b[0;34m)\u001b[0m\u001b[0;34m\u001b[0m\u001b[0;34m\u001b[0m\u001b[0m\n\u001b[0m\u001b[1;32m   5488\u001b[0m \u001b[0;34m\u001b[0m\u001b[0m\n\u001b[1;32m   5489\u001b[0m     \u001b[0;32mdef\u001b[0m \u001b[0m__setattr__\u001b[0m\u001b[0;34m(\u001b[0m\u001b[0mself\u001b[0m\u001b[0;34m,\u001b[0m \u001b[0mname\u001b[0m\u001b[0;34m:\u001b[0m \u001b[0mstr\u001b[0m\u001b[0;34m,\u001b[0m \u001b[0mvalue\u001b[0m\u001b[0;34m)\u001b[0m \u001b[0;34m->\u001b[0m \u001b[0;32mNone\u001b[0m\u001b[0;34m:\u001b[0m\u001b[0;34m\u001b[0m\u001b[0;34m\u001b[0m\u001b[0m\n",
      "\u001b[0;31mAttributeError\u001b[0m: 'DataFrame' object has no attribute 'High'"
     ]
    }
   ],
   "source": [
    "df = pd.read_csv(\n",
    "    \"https://raw.githubusercontent.com/plotly/datasets/master/finance-charts-apple.csv\")\n",
    "\n",
    "fig = go.Figure()\n",
    "\n",
    "# Add Traces\n",
    "\n",
    "fig.add_trace(\n",
    "    go.Pie(x=list(df.index),\n",
    "               y=list(df.High),\n",
    "               name=\"High\",\n",
    "               line=dict(color=\"#33CFA5\")))\n",
    "\n",
    "fig.add_trace(\n",
    "    go.Scatter(x=list(df.index),\n",
    "               y=[df.High.mean()] * len(df.index),\n",
    "               name=\"High Average\",\n",
    "               visible=False,\n",
    "               line=dict(color=\"#33CFA5\", dash=\"dash\")))\n",
    "\n",
    "fig.update_layout(\n",
    "    updatemenus=[\n",
    "        dict(\n",
    "            type=\"buttons\",\n",
    "            direction=\"right\",\n",
    "            active=0,\n",
    "            x=0.57,\n",
    "            y=1.2,\n",
    "            buttons=list([\n",
    "                dict(label=\"None\",\n",
    "                     method=\"update\",\n",
    "                     args=[{\"visible\": [True, False, True, False]},\n",
    "                           {\"title\": \"Yahoo\",\n",
    "                            \"annotations\": []}]),\n",
    "                dict(label=\"High\",\n",
    "                     method=\"update\",\n",
    "                     args=[{\"visible\": [True, True, False, False]},\n",
    "                           {\"title\": \"Yahoo High\",\n",
    "                            \"annotations\": high_annotations}]),\n",
    "                dict(label=\"Low\",\n",
    "                     method=\"update\",\n",
    "                     args=[{\"visible\": [False, False, True, True]},\n",
    "                           {\"title\": \"Yahoo Low\",\n",
    "                            \"annotations\": low_annotations}]),\n",
    "                dict(label=\"Both\",\n",
    "                     method=\"update\",\n",
    "                     args=[{\"visible\": [True, True, True, True]},\n",
    "                           {\"title\": \"Yahoo\",\n",
    "                            \"annotations\": high_annotations + low_annotations}]),\n",
    "            ]),\n",
    "        )\n",
    "    ])\n",
    "\n",
    "# Set title\n",
    "fig.update_layout(\n",
    "    title_text=\"Yahoo\",\n",
    "    xaxis_domain=[0.05, 1.0]\n",
    ")\n",
    "\n",
    "fig.show()"
   ]
  },
  {
   "cell_type": "code",
   "execution_count": null,
   "metadata": {},
   "outputs": [
    {
     "data": {
      "application/vnd.plotly.v1+json": {
       "config": {
        "plotlyServerURL": "https://plot.ly"
       },
       "data": [
        {
         "colorscale": [
          [
           0,
           "#440154"
          ],
          [
           0.1111111111111111,
           "#482878"
          ],
          [
           0.2222222222222222,
           "#3e4989"
          ],
          [
           0.3333333333333333,
           "#31688e"
          ],
          [
           0.4444444444444444,
           "#26828e"
          ],
          [
           0.5555555555555556,
           "#1f9e89"
          ],
          [
           0.6666666666666666,
           "#35b779"
          ],
          [
           0.7777777777777778,
           "#6ece58"
          ],
          [
           0.8888888888888888,
           "#b5de2b"
          ],
          [
           1,
           "#fde725"
          ]
         ],
         "type": "surface",
         "z": [
          [
           100,
           100,
           101,
           101,
           101,
           101,
           101,
           100,
           100,
           100,
           101,
           101,
           102,
           102,
           102,
           102,
           103,
           104,
           103,
           102,
           101,
           101,
           102,
           103,
           104,
           104,
           105,
           107,
           107,
           107,
           108,
           108,
           110,
           110,
           110,
           110,
           110,
           110,
           110,
           110,
           108,
           108,
           108,
           107,
           107,
           108,
           108,
           108,
           108,
           108,
           107,
           107,
           107,
           107,
           106,
           106,
           105,
           105,
           104,
           104,
           103
          ],
          [
           101,
           101,
           102,
           102,
           102,
           102,
           102,
           101,
           101,
           101,
           102,
           102,
           103,
           103,
           103,
           103,
           104,
           105,
           104,
           103,
           102,
           102,
           103,
           105,
           106,
           106,
           107,
           109,
           110,
           110,
           110,
           110,
           111,
           112,
           113,
           114,
           116,
           115,
           114,
           112,
           110,
           110,
           110,
           109,
           108,
           109,
           109,
           109,
           109,
           108,
           108,
           108,
           108,
           107,
           107,
           106,
           106,
           105,
           105,
           104,
           104
          ],
          [
           102,
           102,
           103,
           103,
           103,
           103,
           103,
           102,
           102,
           102,
           103,
           103,
           104,
           104,
           104,
           104,
           105,
           106,
           105,
           104,
           104,
           105,
           106,
           107,
           108,
           110,
           111,
           113,
           114,
           115,
           114,
           115,
           116,
           118,
           119,
           119,
           121,
           121,
           120,
           118,
           116,
           114,
           112,
           111,
           110,
           110,
           110,
           110,
           109,
           109,
           109,
           109,
           108,
           108,
           107,
           107,
           106,
           106,
           105,
           105,
           104
          ],
          [
           103,
           103,
           104,
           104,
           104,
           104,
           104,
           103,
           103,
           103,
           103,
           104,
           104,
           104,
           105,
           105,
           106,
           107,
           106,
           106,
           106,
           107,
           108,
           110,
           111,
           114,
           117,
           118,
           117,
           119,
           120,
           121,
           122,
           124,
           125,
           126,
           127,
           127,
           126,
           124,
           122,
           120,
           117,
           116,
           113,
           111,
           110,
           110,
           110,
           109,
           109,
           109,
           109,
           108,
           108,
           107,
           107,
           106,
           106,
           105,
           105
          ],
          [
           104,
           104,
           105,
           105,
           105,
           105,
           105,
           104,
           104,
           103,
           104,
           104,
           105,
           105,
           105,
           106,
           107,
           108,
           108,
           108,
           109,
           110,
           112,
           114,
           115,
           118,
           121,
           122,
           121,
           123,
           128,
           131,
           129,
           130,
           131,
           131,
           132,
           132,
           131,
           130,
           128,
           126,
           122,
           119,
           115,
           114,
           112,
           110,
           110,
           110,
           110,
           110,
           109,
           109,
           108,
           107,
           107,
           107,
           106,
           106,
           105
          ],
          [
           105,
           105,
           105,
           106,
           106,
           106,
           106,
           105,
           105,
           104,
           104,
           105,
           105,
           106,
           106,
           107,
           109,
           110,
           110,
           112,
           113,
           115,
           116,
           118,
           119,
           121,
           124,
           126,
           126,
           129,
           134,
           137,
           137,
           136,
           136,
           135,
           136,
           136,
           136,
           135,
           133,
           129,
           126,
           122,
           118,
           116,
           115,
           113,
           111,
           110,
           110,
           110,
           110,
           109,
           108,
           108,
           108,
           107,
           107,
           106,
           106
          ],
          [
           105,
           106,
           106,
           107,
           107,
           107,
           107,
           106,
           106,
           105,
           105,
           106,
           106,
           107,
           108,
           109,
           111,
           113,
           114,
           116,
           118,
           120,
           121,
           122,
           123,
           125,
           127,
           129,
           130,
           135,
           140,
           142,
           142,
           142,
           141,
           140,
           140,
           140,
           140,
           139,
           137,
           134,
           129,
           125,
           121,
           118,
           116,
           114,
           112,
           110,
           110,
           110,
           111,
           110,
           109,
           109,
           108,
           108,
           107,
           107,
           106
          ],
          [
           106,
           107,
           107,
           108,
           108,
           108,
           108,
           107,
           107,
           106,
           106,
           107,
           108,
           108,
           110,
           113,
           115,
           117,
           118,
           120,
           122,
           124,
           125,
           127,
           128,
           129,
           131,
           134,
           135,
           141,
           146,
           147,
           146,
           146,
           145,
           144,
           144,
           144,
           143,
           142,
           141,
           139,
           135,
           130,
           126,
           122,
           118,
           116,
           114,
           112,
           112,
           113,
           112,
           110,
           110,
           109,
           109,
           108,
           108,
           107,
           106
          ],
          [
           107,
           108,
           108,
           109,
           109,
           109,
           109,
           108,
           108,
           107,
           108,
           108,
           110,
           111,
           113,
           116,
           118,
           120,
           123,
           125,
           127,
           129,
           130,
           132,
           134,
           135,
           137,
           139,
           142,
           146,
           152,
           152,
           151,
           151,
           150,
           149,
           148,
           148,
           146,
           145,
           143,
           142,
           139,
           135,
           131,
           127,
           122,
           119,
           117,
           115,
           115,
           115,
           114,
           112,
           110,
           110,
           109,
           109,
           108,
           107,
           107
          ],
          [
           108,
           109,
           109,
           110,
           110,
           110,
           110,
           109,
           109,
           108,
           110,
           110,
           113,
           116,
           118,
           120,
           122,
           125,
           127,
           129,
           133,
           136,
           138,
           140,
           141,
           142,
           148,
           150,
           151,
           156,
           158,
           159,
           158,
           157,
           158,
           158,
           154,
           151,
           149,
           148,
           146,
           144,
           141,
           137,
           134,
           130,
           125,
           122,
           120,
           118,
           117,
           117,
           115,
           113,
           111,
           110,
           110,
           109,
           108,
           107,
           107
          ],
          [
           109,
           110,
           110,
           111,
           111,
           111,
           111,
           110,
           110,
           110,
           112,
           114,
           118,
           121,
           123,
           125,
           127,
           129,
           133,
           137,
           141,
           143,
           145,
           146,
           148,
           150,
           154,
           156,
           159,
           161,
           162,
           163,
           164,
           163,
           164,
           164,
           160,
           157,
           154,
           151,
           149,
           146,
           144,
           140,
           137,
           133,
           129,
           126,
           124,
           121,
           119,
           118,
           116,
           114,
           112,
           111,
           110,
           109,
           108,
           107,
           106
          ],
          [
           110,
           110,
           111,
           113,
           112,
           111,
           113,
           112,
           112,
           114,
           116,
           119,
           121,
           124,
           127,
           129,
           133,
           138,
           143,
           146,
           149,
           149,
           151,
           153,
           154,
           157,
           159,
           160,
           163,
           165,
           166,
           167,
           168,
           168,
           168,
           168,
           166,
           162,
           159,
           157,
           154,
           152,
           149,
           144,
           140,
           136,
           133,
           131,
           128,
           125,
           122,
           119,
           117,
           115,
           113,
           111,
           110,
           109,
           108,
           107,
           106
          ],
          [
           110,
           111,
           113,
           115,
           114,
           113,
           114,
           114,
           115,
           117,
           119,
           121,
           124,
           126,
           129,
           133,
           140,
           145,
           150,
           154,
           155,
           155,
           157,
           159,
           161,
           162,
           164,
           165,
           167,
           168,
           169,
           170,
           172,
           174,
           172,
           172,
           171,
           169,
           166,
           163,
           161,
           158,
           153,
           148,
           143,
           140,
           137,
           134,
           131,
           128,
           125,
           120,
           118,
           116,
           114,
           112,
           110,
           109,
           108,
           107,
           105
          ],
          [
           111,
           113,
           115,
           117,
           116,
           115,
           116,
           117,
           117,
           119,
           121,
           124,
           126,
           128,
           132,
           137,
           143,
           151,
           156,
           161,
           161,
           162,
           163,
           165,
           166,
           167,
           168,
           170,
           171,
           173,
           175,
           177,
           179,
           178,
           177,
           176,
           176,
           174,
           171,
           169,
           165,
           161,
           156,
           152,
           148,
           144,
           140,
           138,
           135,
           131,
           127,
           123,
           119,
           117,
           115,
           113,
           111,
           110,
           108,
           106,
           105
          ],
          [
           114,
           115,
           117,
           117,
           117,
           118,
           119,
           119,
           120,
           121,
           124,
           126,
           128,
           131,
           137,
           143,
           150,
           156,
           160,
           163,
           165,
           168,
           170,
           171,
           172,
           173,
           174,
           175,
           177,
           179,
           180,
           182,
           183,
           183,
           183,
           183,
           180,
           178,
           177,
           172,
           168,
           164,
           160,
           156,
           152,
           148,
           144,
           141,
           138,
           134,
           130,
           126,
           121,
           117,
           114,
           112,
           110,
           110,
           108,
           106,
           104
          ],
          [
           116,
           118,
           118,
           118,
           120,
           121,
           121,
           122,
           122,
           123,
           125,
           128,
           130,
           134,
           141,
           147,
           152,
           156,
           160,
           165,
           168,
           170,
           174,
           176,
           179,
           180,
           181,
           181,
           182,
           182,
           183,
           184,
           186,
           187,
           187,
           184,
           184,
           181,
           180,
           176,
           172,
           168,
           165,
           161,
           157,
           153,
           149,
           145,
           142,
           138,
           133,
           129,
           125,
           120,
           115,
           111,
           110,
           110,
           108,
           106,
           104
          ],
          [
           118,
           120,
           120,
           121,
           122,
           123,
           124,
           124,
           125,
           126,
           127,
           129,
           132,
           135,
           142,
           149,
           153,
           157,
           161,
           166,
           170,
           174,
           178,
           180,
           182,
           183,
           184,
           184,
           185,
           186,
           186,
           187,
           189,
           189,
           189,
           189,
           189,
           186,
           182,
           179,
           175,
           171,
           168,
           165,
           162,
           157,
           152,
           149,
           145,
           141,
           137,
           131,
           125,
           120,
           116,
           111,
           110,
           110,
           108,
           106,
           104
          ],
          [
           120,
           121,
           122,
           123,
           124,
           125,
           126,
           127,
           127,
           128,
           130,
           132,
           134,
           137,
           142,
           151,
           155,
           158,
           162,
           169,
           172,
           176,
           181,
           183,
           184,
           186,
           187,
           188,
           189,
           189,
           189,
           189,
           190,
           190,
           191,
           190,
           190,
           188,
           186,
           183,
           180,
           175,
           171,
           168,
           165,
           161,
           157,
           152,
           149,
           145,
           141,
           134,
           127,
           121,
           116,
           112,
           110,
           110,
           108,
           106,
           104
          ],
          [
           120,
           122,
           125,
           126,
           126,
           127,
           128,
           129,
           130,
           130,
           132,
           134,
           136,
           139,
           145,
           152,
           157,
           160,
           167,
           172,
           175,
           178,
           181,
           185,
           186,
           188,
           190,
           191,
           192,
           193,
           193,
           192,
           192,
           191,
           192,
           191,
           191,
           190,
           190,
           187,
           184,
           181,
           177,
           172,
           169,
           165,
           161,
           156,
           152,
           147,
           143,
           139,
           131,
           123,
           119,
           115,
           111,
           110,
           108,
           106,
           105
          ],
          [
           121,
           124,
           126,
           128,
           129,
           129,
           130,
           131,
           132,
           133,
           135,
           137,
           139,
           143,
           150,
           154,
           159,
           164,
           170,
           173,
           176,
           179,
           184,
           186,
           189,
           190,
           191,
           192,
           193,
           194,
           195,
           194,
           193,
           192,
           191,
           191,
           191,
           191,
           190,
           190,
           188,
           184,
           181,
           177,
           173,
           169,
           165,
           160,
           155,
           149,
           145,
           142,
           136,
           129,
           123,
           118,
           114,
           110,
           108,
           108,
           107
          ],
          [
           122,
           125,
           127,
           130,
           130,
           131,
           133,
           134,
           135,
           136,
           137,
           140,
           143,
           147,
           154,
           158,
           162,
           166,
           171,
           174,
           177,
           181,
           186,
           189,
           190,
           190,
           191,
           192,
           191,
           191,
           190,
           189,
           188,
           189,
           190,
           190,
           191,
           190,
           190,
           190,
           189,
           186,
           184,
           181,
           177,
           173,
           169,
           164,
           158,
           152,
           148,
           144,
           140,
           134,
           125,
           118,
           115,
           111,
           110,
           108,
           107
          ],
          [
           122,
           125,
           128,
           130,
           132,
           133,
           135,
           136,
           137,
           139,
           140,
           143,
           147,
           152,
           157,
           161,
           164,
           168,
           172,
           175,
           179,
           182,
           186,
           190,
           190,
           190,
           190,
           189,
           187,
           184,
           184,
           183,
           182,
           182,
           183,
           183,
           183,
           184,
           185,
           186,
           187,
           186,
           185,
           184,
           181,
           177,
           173,
           169,
           163,
           157,
           149,
           145,
           141,
           136,
           130,
           119,
           116,
           112,
           110,
           108,
           106
          ],
          [
           123,
           126,
           129,
           131,
           133,
           135,
           137,
           138,
           139,
           141,
           143,
           147,
           150,
           156,
           161,
           164,
           167,
           170,
           173,
           177,
           181,
           184,
           187,
           188,
           190,
           189,
           187,
           185,
           183,
           179,
           176,
           174,
           174,
           174,
           174,
           174,
           176,
           177,
           179,
           180,
           182,
           183,
           182,
           181,
           181,
           180,
           176,
           171,
           166,
           160,
           152,
           147,
           142,
           138,
           133,
           126,
           121,
           115,
           110,
           106,
           105
          ],
          [
           124,
           127,
           130,
           132,
           135,
           137,
           138,
           140,
           142,
           144,
           147,
           149,
           154,
           157,
           161,
           165,
           168,
           171,
           175,
           178,
           181,
           184,
           186,
           187,
           187,
           184,
           184,
           181,
           179,
           175,
           171,
           169,
           168,
           168,
           168,
           169,
           170,
           172,
           174,
           177,
           178,
           179,
           180,
           181,
           181,
           180,
           179,
           174,
           167,
           161,
           155,
           148,
           144,
           139,
           134,
           128,
           121,
           115,
           110,
           106,
           105
          ],
          [
           123,
           128,
           131,
           133,
           136,
           138,
           140,
           142,
           144,
           146,
           149,
           151,
           154,
           157,
           160,
           164,
           168,
           172,
           175,
           178,
           181,
           183,
           184,
           184,
           185,
           183,
           180,
           177,
           174,
           170,
           167,
           165,
           164,
           164,
           164,
           165,
           166,
           168,
           171,
           175,
           176,
           178,
           180,
           181,
           180,
           180,
           179,
           177,
           170,
           163,
           157,
           150,
           144,
           139,
           134,
           128,
           121,
           115,
           110,
           108,
           107
          ],
          [
           123,
           127,
           131,
           134,
           136,
           138,
           140,
           142,
           144,
           147,
           149,
           151,
           154,
           157,
           160,
           164,
           168,
           171,
           174,
           178,
           180,
           181,
           181,
           182,
           183,
           181,
           178,
           173,
           169,
           166,
           163,
           161,
           161,
           160,
           160,
           161,
           163,
           165,
           168,
           173,
           176,
           178,
           179,
           180,
           181,
           180,
           180,
           175,
           173,
           166,
           159,
           152,
           145,
           139,
           134,
           127,
           121,
           115,
           110,
           109,
           108
          ],
          [
           120,
           124,
           128,
           131,
           134,
           137,
           139,
           142,
           144,
           146,
           149,
           151,
           153,
           156,
           160,
           163,
           167,
           171,
           174,
           178,
           180,
           180,
           180,
           180,
           180,
           180,
           175,
           171,
           167,
           162,
           160,
           158,
           157,
           157,
           157,
           158,
           159,
           162,
           166,
           170,
           175,
           177,
           178,
           180,
           181,
           181,
           180,
           178,
           175,
           169,
           160,
           154,
           148,
           140,
           134,
           128,
           121,
           115,
           110,
           110,
           109
          ],
          [
           118,
           121,
           125,
           129,
           132,
           134,
           137,
           140,
           142,
           145,
           147,
           149,
           151,
           155,
           159,
           163,
           166,
           169,
           173,
           177,
           179,
           180,
           180,
           180,
           180,
           179,
           174,
           169,
           166,
           161,
           158,
           156,
           154,
           153,
           153,
           154,
           156,
           159,
           163,
           169,
           173,
           175,
           178,
           180,
           181,
           180,
           180,
           179,
           175,
           170,
           160,
           154,
           149,
           142,
           135,
           128,
           122,
           116,
           111,
           110,
           110
          ],
          [
           117,
           120,
           121,
           125,
           129,
           132,
           135,
           138,
           140,
           143,
           145,
           147,
           149,
           153,
           157,
           160,
           163,
           166,
           171,
           174,
           177,
           179,
           180,
           180,
           180,
           179,
           172,
           168,
           164,
           160,
           157,
           154,
           151,
           149,
           150,
           150,
           154,
           158,
           164,
           169,
           174,
           178,
           180,
           180,
           180,
           180,
           178,
           177,
           175,
           170,
           161,
           153,
           148,
           142,
           135,
           129,
           123,
           116,
           113,
           112,
           110
          ],
          [
           115,
           118,
           120,
           122,
           126,
           130,
           133,
           136,
           138,
           141,
           143,
           145,
           148,
           151,
           154,
           157,
           160,
           163,
           168,
           171,
           174,
           177,
           179,
           179,
           179,
           176,
           171,
           167,
           164,
           160,
           156,
           153,
           149,
           148,
           149,
           151,
           155,
           158,
           163,
           170,
           173,
           177,
           179,
           180,
           180,
           180,
           178,
           175,
           173,
           171,
           162,
           154,
           147,
           141,
           136,
           130,
           124,
           117,
           115,
           112,
           110
          ],
          [
           114,
           116,
           118,
           120,
           122,
           127,
           131,
           133,
           136,
           138,
           141,
           143,
           146,
           148,
           151,
           154,
           157,
           160,
           164,
           168,
           171,
           174,
           178,
           178,
           179,
           177,
           173,
           169,
           165,
           161,
           157,
           154,
           151,
           149,
           150,
           152,
           155,
           159,
           166,
           171,
           175,
           177,
           179,
           180,
           180,
           179,
           176,
           174,
           171,
           168,
           159,
           151,
           146,
           141,
           135,
           129,
           124,
           119,
           116,
           113,
           110
          ],
          [
           115,
           114,
           116,
           118,
           120,
           122,
           127,
           129,
           132,
           136,
           139,
           141,
           143,
           146,
           148,
           151,
           153,
           156,
           160,
           164,
           167,
           172,
           174,
           176,
           177,
           176,
           173,
           170,
           166,
           162,
           159,
           157,
           154,
           153,
           154,
           155,
           158,
           161,
           169,
           172,
           174,
           176,
           178,
           178,
           178,
           178,
           175,
           172,
           169,
           162,
           156,
           149,
           144,
           140,
           134,
           128,
           123,
           118,
           115,
           112,
           110
          ],
          [
           113,
           113,
           114,
           116,
           118,
           120,
           122,
           125,
           129,
           133,
           136,
           138,
           141,
           143,
           146,
           149,
           150,
           153,
           156,
           160,
           165,
           170,
           173,
           176,
           176,
           176,
           173,
           172,
           169,
           165,
           163,
           160,
           158,
           157,
           158,
           159,
           161,
           166,
           170,
           170,
           173,
           175,
           176,
           178,
           176,
           173,
           171,
           168,
           164,
           158,
           153,
           146,
           140,
           137,
           132,
           127,
           121,
           117,
           113,
           111,
           110
          ],
          [
           111,
           112,
           113,
           114,
           116,
           118,
           120,
           122,
           126,
           130,
           133,
           136,
           139,
           142,
           145,
           147,
           148,
           151,
           155,
           158,
           163,
           168,
           173,
           176,
           177,
           177,
           176,
           174,
           171,
           169,
           166,
           164,
           161,
           161,
           162,
           164,
           165,
           167,
           170,
           170,
           171,
           173,
           173,
           173,
           170,
           168,
           165,
           163,
           160,
           155,
           149,
           143,
           138,
           134,
           130,
           125,
           119,
           116,
           112,
           110,
           109
          ],
          [
           110,
           112,
           113,
           113,
           114,
           116,
           118,
           120,
           123,
           127,
           131,
           134,
           137,
           141,
           143,
           145,
           148,
           150,
           154,
           157,
           161,
           166,
           171,
           176,
           178,
           178,
           178,
           176,
           174,
           172,
           170,
           167,
           167,
           167,
           166,
           168,
           170,
           169,
           168,
           167,
           168,
           168,
           168,
           168,
           167,
           165,
           163,
           160,
           156,
           152,
           146,
           140,
           136,
           131,
           128,
           122,
           118,
           114,
           110,
           110,
           109
          ],
          [
           109,
           110,
           111,
           112,
           114,
           116,
           118,
           119,
           120,
           124,
           128,
           131,
           136,
           140,
           142,
           145,
           147,
           150,
           153,
           157,
           160,
           165,
           170,
           174,
           178,
           179,
           179,
           178,
           178,
           176,
           174,
           171,
           170,
           170,
           170,
           168,
           167,
           166,
           164,
           163,
           161,
           162,
           163,
           163,
           163,
           161,
           160,
           157,
           153,
           148,
           142,
           136,
           130,
           127,
           124,
           120,
           117,
           113,
           110,
           110,
           109
          ],
          [
           108,
           109,
           111,
           112,
           114,
           116,
           117,
           118,
           120,
           121,
           125,
           128,
           132,
           138,
           142,
           144,
           147,
           149,
           153,
           156,
           160,
           164,
           170,
           174,
           178,
           180,
           180,
           179,
           179,
           178,
           176,
           172,
           170,
           170,
           170,
           168,
           166,
           164,
           162,
           160,
           157,
           156,
           157,
           158,
           158,
           156,
           153,
           151,
           149,
           144,
           139,
           130,
           127,
           124,
           121,
           118,
           115,
           112,
           110,
           110,
           109
          ],
          [
           108,
           109,
           111,
           113,
           114,
           116,
           117,
           118,
           119,
           120,
           122,
           126,
           130,
           135,
           139,
           143,
           147,
           149,
           152,
           156,
           160,
           164,
           169,
           173,
           177,
           180,
           180,
           180,
           180,
           179,
           178,
           174,
           170,
           170,
           168,
           167,
           165,
           163,
           161,
           157,
           154,
           153,
           152,
           152,
           152,
           149,
           148,
           147,
           144,
           140,
           134,
           128,
           125,
           122,
           119,
           117,
           114,
           110,
           110,
           109,
           109
          ],
          [
           107,
           108,
           111,
           112,
           114,
           115,
           116,
           117,
           119,
           120,
           121,
           124,
           128,
           133,
           137,
           141,
           145,
           149,
           152,
           156,
           160,
           164,
           168,
           172,
           176,
           179,
           180,
           180,
           180,
           179,
           178,
           174,
           170,
           168,
           166,
           165,
           163,
           161,
           158,
           154,
           150,
           149,
           148,
           146,
           145,
           143,
           143,
           143,
           140,
           136,
           130,
           126,
           123,
           120,
           118,
           115,
           112,
           110,
           110,
           109,
           109
          ],
          [
           107,
           108,
           110,
           112,
           113,
           113,
           115,
           116,
           118,
           120,
           122,
           125,
           128,
           132,
           136,
           140,
           145,
           148,
           150,
           155,
           160,
           164,
           167,
           170,
           174,
           177,
           179,
           179,
           178,
           176,
           176,
           173,
           169,
           166,
           164,
           163,
           161,
           159,
           155,
           152,
           148,
           145,
           143,
           141,
           140,
           139,
           139,
           138,
           136,
           132,
           128,
           124,
           121,
           118,
           116,
           114,
           111,
           110,
           110,
           109,
           108
          ],
          [
           107,
           108,
           109,
           111,
           113,
           114,
           116,
           117,
           119,
           120,
           122,
           125,
           128,
           132,
           137,
           141,
           144,
           146,
           149,
           152,
           157,
           162,
           166,
           168,
           171,
           173,
           175,
           175,
           173,
           172,
           172,
           171,
           168,
           165,
           162,
           160,
           158,
           156,
           153,
           149,
           145,
           142,
           139,
           138,
           137,
           136,
           135,
           133,
           131,
           129,
           126,
           122,
           119,
           117,
           114,
           112,
           110,
           110,
           109,
           108,
           107
          ],
          [
           108,
           109,
           110,
           112,
           114,
           115,
           116,
           117,
           119,
           120,
           122,
           126,
           129,
           133,
           137,
           141,
           143,
           146,
           148,
           151,
           155,
           160,
           164,
           167,
           168,
           169,
           170,
           170,
           169,
           168,
           167,
           168,
           166,
           163,
           160,
           158,
           155,
           153,
           150,
           147,
           143,
           140,
           137,
           136,
           134,
           133,
           132,
           130,
           129,
           127,
           125,
           121,
           118,
           115,
           112,
           110,
           110,
           110,
           108,
           107,
           107
          ],
          [
           109,
           110,
           111,
           113,
           115,
           116,
           117,
           118,
           120,
           121,
           123,
           126,
           129,
           133,
           138,
           141,
           143,
           146,
           148,
           150,
           155,
           159,
           163,
           165,
           166,
           167,
           168,
           168,
           166,
           165,
           164,
           161,
           160,
           159,
           158,
           155,
           152,
           149,
           147,
           144,
           141,
           138,
           135,
           134,
           132,
           130,
           129,
           128,
           126,
           124,
           122,
           120,
           117,
           113,
           111,
           110,
           110,
           110,
           108,
           107,
           107
          ],
          [
           110,
           111,
           112,
           113,
           116,
           117,
           118,
           119,
           120,
           122,
           125,
           127,
           130,
           133,
           138,
           141,
           143,
           146,
           148,
           150,
           154,
           159,
           162,
           163,
           164,
           166,
           166,
           166,
           165,
           163,
           161,
           159,
           157,
           156,
           155,
           153,
           150,
           146,
           143,
           140,
           138,
           136,
           133,
           132,
           130,
           129,
           128,
           125,
           124,
           122,
           120,
           119,
           117,
           114,
           111,
           110,
           110,
           109,
           108,
           107,
           107
          ],
          [
           111,
           112,
           113,
           114,
           116,
           117,
           118,
           119,
           120,
           123,
           125,
           128,
           130,
           134,
           139,
           141,
           144,
           146,
           148,
           151,
           154,
           158,
           161,
           164,
           166,
           167,
           168,
           166,
           165,
           163,
           161,
           158,
           156,
           154,
           152,
           150,
           146,
           142,
           139,
           137,
           135,
           133,
           131,
           130,
           129,
           128,
           127,
           125,
           123,
           121,
           120,
           118,
           116,
           113,
           111,
           110,
           110,
           109,
           108,
           107,
           106
          ],
          [
           111,
           112,
           113,
           115,
           117,
           118,
           118,
           120,
           121,
           124,
           126,
           128,
           131,
           135,
           139,
           142,
           144,
           146,
           148,
           151,
           155,
           160,
           164,
           165,
           168,
           169,
           169,
           168,
           166,
           163,
           160,
           158,
           156,
           153,
           151,
           148,
           145,
           142,
           139,
           137,
           135,
           132,
           130,
           129,
           127,
           126,
           125,
           124,
           123,
           120,
           120,
           117,
           116,
           114,
           112,
           110,
           110,
           108,
           107,
           106,
           106
          ],
          [
           112,
           113,
           114,
           116,
           117,
           118,
           119,
           120,
           122,
           124,
           127,
           129,
           132,
           135,
           139,
           142,
           144,
           146,
           149,
           152,
           157,
           162,
           167,
           169,
           170,
           170,
           170,
           168,
           165,
           163,
           161,
           159,
           157,
           155,
           151,
           148,
           145,
           141,
           139,
           136,
           134,
           132,
           130,
           128,
           127,
           126,
           124,
           123,
           122,
           120,
           119,
           117,
           116,
           114,
           112,
           111,
           109,
           107,
           106,
           106,
           105
          ],
          [
           113,
           114,
           115,
           116,
           117,
           119,
           119,
           120,
           122,
           125,
           127,
           129,
           132,
           135,
           139,
           142,
           144,
           147,
           149,
           154,
           159,
           164,
           169,
           170,
           170,
           170,
           170,
           170,
           168,
           165,
           163,
           161,
           158,
           155,
           151,
           148,
           145,
           142,
           139,
           137,
           135,
           132,
           131,
           128,
           126,
           125,
           124,
           122,
           121,
           120,
           119,
           117,
           115,
           113,
           111,
           110,
           109,
           106,
           105,
           105,
           104
          ],
          [
           113,
           114,
           115,
           117,
           118,
           119,
           120,
           121,
           123,
           125,
           127,
           130,
           132,
           135,
           139,
           142,
           145,
           148,
           150,
           156,
           161,
           166,
           170,
           170,
           170,
           170,
           170,
           170,
           169,
           166,
           163,
           161,
           159,
           155,
           151,
           148,
           146,
           143,
           140,
           138,
           135,
           134,
           132,
           130,
           127,
           125,
           123,
           121,
           120,
           120,
           119,
           116,
           114,
           112,
           110,
           110,
           108,
           106,
           105,
           104,
           104
          ],
          [
           114,
           115,
           116,
           117,
           118,
           119,
           120,
           121,
           123,
           126,
           128,
           130,
           133,
           136,
           139,
           142,
           145,
           148,
           152,
           157,
           161,
           166,
           168,
           170,
           170,
           170,
           170,
           168,
           166,
           164,
           163,
           160,
           159,
           155,
           151,
           148,
           146,
           143,
           141,
           138,
           136,
           134,
           132,
           130,
           128,
           125,
           123,
           121,
           120,
           120,
           118,
           116,
           113,
           111,
           110,
           110,
           109,
           106,
           105,
           104,
           104
          ],
          [
           115,
           116,
           117,
           118,
           119,
           120,
           121,
           121,
           123,
           126,
           128,
           131,
           134,
           136,
           139,
           142,
           145,
           149,
           152,
           157,
           161,
           163,
           164,
           166,
           168,
           167,
           166,
           164,
           163,
           161,
           160,
           158,
           156,
           152,
           149,
           147,
           144,
           143,
           141,
           139,
           136,
           134,
           132,
           130,
           128,
           125,
           122,
           120,
           120,
           119,
           117,
           115,
           113,
           110,
           110,
           109,
           107,
           106,
           105,
           104,
           104
          ],
          [
           115,
           116,
           117,
           118,
           119,
           120,
           121,
           122,
           123,
           125,
           128,
           131,
           134,
           137,
           139,
           142,
           145,
           149,
           152,
           156,
           159,
           159,
           160,
           162,
           162,
           161,
           161,
           160,
           159,
           158,
           157,
           155,
           153,
           150,
           148,
           146,
           145,
           143,
           142,
           140,
           137,
           134,
           131,
           129,
           126,
           124,
           122,
           120,
           119,
           117,
           115,
           113,
           111,
           110,
           109,
           109,
           107,
           106,
           105,
           104,
           104
          ],
          [
           114,
           115,
           116,
           116,
           118,
           119,
           120,
           121,
           122,
           126,
           129,
           132,
           135,
           137,
           140,
           143,
           146,
           149,
           152,
           155,
           156,
           157,
           158,
           159,
           159,
           159,
           158,
           158,
           157,
           155,
           153,
           151,
           150,
           149,
           147,
           146,
           145,
           144,
           142,
           141,
           138,
           135,
           132,
           128,
           125,
           122,
           120,
           118,
           117,
           115,
           113,
           112,
           110,
           109,
           108,
           108,
           106,
           105,
           105,
           104,
           104
          ],
          [
           113,
           114,
           115,
           116,
           117,
           118,
           119,
           120,
           123,
           126,
           129,
           132,
           135,
           138,
           140,
           143,
           146,
           148,
           151,
           153,
           154,
           156,
           157,
           157,
           157,
           157,
           156,
           155,
           154,
           152,
           150,
           149,
           148,
           147,
           146,
           145,
           144,
           142,
           141,
           140,
           139,
           136,
           132,
           129,
           125,
           121,
           118,
           116,
           115,
           113,
           111,
           110,
           109,
           108,
           108,
           107,
           106,
           105,
           104,
           104,
           104
          ],
          [
           112,
           113,
           114,
           115,
           116,
           117,
           119,
           120,
           122,
           126,
           130,
           133,
           136,
           138,
           141,
           143,
           146,
           148,
           150,
           152,
           154,
           155,
           155,
           155,
           155,
           155,
           154,
           152,
           152,
           150,
           148,
           147,
           146,
           145,
           145,
           143,
           142,
           141,
           140,
           140,
           140,
           137,
           133,
           129,
           125,
           120,
           117,
           115,
           111,
           110,
           110,
           109,
           108,
           107,
           107,
           106,
           105,
           105,
           104,
           104,
           103
          ],
          [
           111,
           112,
           114,
           115,
           116,
           117,
           118,
           120,
           122,
           125,
           131,
           134,
           137,
           139,
           142,
           144,
           146,
           148,
           150,
           152,
           153,
           153,
           153,
           153,
           153,
           153,
           153,
           151,
           149,
           147,
           146,
           144,
           144,
           143,
           143,
           142,
           141,
           140,
           140,
           140,
           140,
           138,
           134,
           130,
           123,
           120,
           118,
           111,
           110,
           110,
           110,
           108,
           107,
           106,
           108,
           105,
           105,
           104,
           104,
           103,
           103
          ],
          [
           111,
           112,
           113,
           115,
           115,
           116,
           117,
           119,
           121,
           126,
           131,
           135,
           138,
           140,
           142,
           144,
           146,
           148,
           150,
           151,
           151,
           151,
           151,
           151,
           151,
           151,
           151,
           150,
           148,
           146,
           144,
           142,
           141,
           141,
           142,
           141,
           140,
           140,
           140,
           140,
           140,
           140,
           136,
           132,
           126,
           120,
           115,
           110,
           110,
           110,
           109,
           107,
           106,
           105,
           107,
           105,
           104,
           104,
           104,
           103,
           103
          ],
          [
           112,
           113,
           113,
           114,
           115,
           116,
           117,
           119,
           122,
           127,
           132,
           135,
           139,
           141,
           143,
           145,
           147,
           149,
           150,
           150,
           150,
           150,
           150,
           150,
           150,
           150,
           150,
           149,
           147,
           144,
           142,
           141,
           140,
           140,
           140,
           140,
           140,
           140,
           140,
           140,
           140,
           140,
           137,
           133,
           128,
           120,
           117,
           110,
           110,
           110,
           108,
           106,
           105,
           105,
           106,
           105,
           104,
           104,
           103,
           103,
           103
          ],
          [
           112,
           113,
           114,
           114,
           116,
           117,
           118,
           120,
           122,
           128,
           132,
           136,
           139,
           141,
           144,
           146,
           147,
           149,
           150,
           150,
           150,
           150,
           150,
           150,
           150,
           150,
           150,
           149,
           146,
           143,
           141,
           140,
           140,
           139,
           139,
           139,
           140,
           140,
           140,
           140,
           140,
           140,
           137,
           133,
           129,
           121,
           118,
           110,
           110,
           109,
           107,
           106,
           105,
           105,
           105,
           104,
           104,
           103,
           103,
           103,
           102
          ],
          [
           112,
           114,
           114,
           115,
           116,
           117,
           119,
           120,
           122,
           128,
           133,
           136,
           140,
           142,
           144,
           146,
           148,
           150,
           150,
           150,
           150,
           150,
           150,
           150,
           150,
           150,
           150,
           148,
           145,
           142,
           140,
           138,
           138,
           138,
           137,
           138,
           140,
           140,
           140,
           140,
           140,
           140,
           137,
           134,
           130,
           122,
           118,
           110,
           110,
           108,
           106,
           105,
           103,
           104,
           104,
           104,
           104,
           103,
           103,
           102,
           102
          ],
          [
           113,
           114,
           115,
           116,
           116,
           117,
           118,
           120,
           123,
           129,
           133,
           137,
           140,
           142,
           144,
           146,
           149,
           150,
           150,
           150,
           150,
           150,
           150,
           150,
           150,
           150,
           150,
           147,
           143,
           141,
           139,
           137,
           136,
           136,
           135,
           136,
           138,
           140,
           140,
           140,
           140,
           139,
           136,
           134,
           130,
           123,
           119,
           113,
           109,
           108,
           106,
           104,
           103,
           104,
           104,
           104,
           103,
           103,
           102,
           102,
           101
          ],
          [
           114,
           115,
           115,
           116,
           117,
           118,
           118,
           120,
           123,
           129,
           133,
           137,
           140,
           143,
           145,
           147,
           150,
           150,
           150,
           150,
           150,
           150,
           150,
           150,
           150,
           150,
           148,
           145,
           142,
           139,
           138,
           136,
           135,
           134,
           134,
           134,
           136,
           138,
           137,
           138,
           139,
           137,
           134,
           132,
           125,
           122,
           117,
           114,
           109,
           107,
           105,
           103,
           102,
           104,
           104,
           103,
           103,
           102,
           102,
           101,
           101
          ],
          [
           114,
           115,
           116,
           117,
           117,
           119,
           118,
           120,
           123,
           128,
           132,
           136,
           139,
           142,
           145,
           148,
           150,
           150,
           150,
           150,
           150,
           150,
           150,
           150,
           150,
           150,
           147,
           144,
           141,
           139,
           136,
           135,
           134,
           133,
           132,
           132,
           134,
           134,
           134,
           134,
           135,
           133,
           131,
           128,
           124,
           120,
           116,
           113,
           110,
           107,
           104,
           102,
           102,
           103,
           103,
           103,
           102,
           102,
           102,
           101,
           100
          ],
          [
           115,
           116,
           116,
           117,
           118,
           119,
           119,
           120,
           124,
           128,
           132,
           136,
           139,
           142,
           145,
           148,
           150,
           150,
           150,
           150,
           150,
           150,
           150,
           150,
           150,
           149,
           146,
           143,
           140,
           138,
           135,
           134,
           133,
           131,
           131,
           131,
           131,
           131,
           131,
           131,
           130,
           127,
           124,
           122,
           119,
           117,
           115,
           112,
           109,
           106,
           104,
           101,
           102,
           103,
           103,
           102,
           102,
           102,
           101,
           100,
           100
          ],
          [
           115,
           116,
           117,
           118,
           118,
           119,
           120,
           123,
           125,
           128,
           131,
           135,
           138,
           141,
           145,
           148,
           150,
           150,
           150,
           150,
           150,
           150,
           150,
           150,
           150,
           147,
           145,
           142,
           139,
           137,
           134,
           132,
           131,
           130,
           129,
           128,
           128,
           128,
           128,
           128,
           126,
           123,
           121,
           119,
           116,
           114,
           112,
           110,
           108,
           105,
           103,
           101,
           103,
           103,
           103,
           102,
           102,
           101,
           100,
           100,
           100
          ],
          [
           116,
           117,
           118,
           118,
           119,
           120,
           122,
           123,
           125,
           128,
           131,
           134,
           137,
           141,
           145,
           148,
           149,
           150,
           150,
           150,
           150,
           150,
           150,
           150,
           148,
           145,
           143,
           141,
           138,
           135,
           133,
           130,
           129,
           128,
           127,
           126,
           125,
           125,
           125,
           124,
           123,
           120,
           118,
           116,
           114,
           111,
           109,
           107,
           106,
           104,
           102,
           100,
           101,
           101,
           102,
           102,
           101,
           100,
           100,
           100,
           100
          ],
          [
           116,
           117,
           118,
           119,
           120,
           121,
           123,
           124,
           126,
           128,
           130,
           133,
           137,
           140,
           144,
           145,
           147,
           148,
           149,
           150,
           149,
           149,
           147,
           146,
           144,
           141,
           139,
           136,
           133,
           131,
           129,
           128,
           127,
           126,
           125,
           124,
           123,
           123,
           122,
           121,
           120,
           118,
           116,
           114,
           112,
           108,
           107,
           105,
           103,
           102,
           100,
           100,
           100,
           100,
           101,
           101,
           100,
           100,
           100,
           100,
           100
          ],
          [
           117,
           118,
           119,
           119,
           120,
           121,
           123,
           124,
           126,
           128,
           129,
           131,
           135,
           139,
           142,
           143,
           145,
           146,
           147,
           147,
           147,
           146,
           144,
           142,
           140,
           138,
           135,
           133,
           130,
           128,
           127,
           126,
           125,
           124,
           123,
           122,
           121,
           120,
           119,
           118,
           117,
           115,
           114,
           112,
           110,
           106,
           105,
           102,
           101,
           100,
           100,
           100,
           100,
           100,
           100,
           100,
           100,
           99,
           99,
           99,
           99
          ],
          [
           117,
           118,
           119,
           120,
           120,
           121,
           123,
           124,
           125,
           126,
           128,
           129,
           132,
           137,
           140,
           142,
           143,
           143,
           144,
           144,
           144,
           143,
           141,
           139,
           137,
           135,
           133,
           130,
           128,
           127,
           126,
           125,
           123,
           122,
           121,
           120,
           119,
           117,
           116,
           115,
           114,
           112,
           111,
           108,
           107,
           105,
           100,
           100,
           100,
           100,
           100,
           100,
           100,
           99,
           99,
           99,
           99,
           99,
           99,
           99,
           98
          ],
          [
           116,
           117,
           118,
           120,
           120,
           121,
           122,
           123,
           124,
           125,
           126,
           128,
           130,
           134,
           139,
           140,
           141,
           141,
           141,
           141,
           141,
           140,
           138,
           136,
           134,
           133,
           131,
           129,
           127,
           125,
           124,
           123,
           122,
           120,
           119,
           118,
           117,
           116,
           114,
           112,
           111,
           108,
           109,
           106,
           106,
           100,
           100,
           100,
           100,
           100,
           99,
           99,
           99,
           99,
           99,
           99,
           99,
           98,
           98,
           98,
           97
          ],
          [
           114,
           115,
           116,
           117,
           119,
           119,
           120,
           121,
           122,
           123,
           125,
           127,
           129,
           133,
           136,
           134,
           134,
           136,
           138,
           138,
           137,
           137,
           135,
           133,
           132,
           130,
           129,
           127,
           125,
           124,
           122,
           121,
           120,
           119,
           117,
           116,
           115,
           114,
           112,
           110,
           109,
           108,
           107,
           105,
           105,
           100,
           100,
           100,
           100,
           99,
           99,
           99,
           98,
           98,
           98,
           98,
           98,
           97,
           97,
           97,
           97
          ],
          [
           112,
           113,
           114,
           115,
           116,
           116,
           117,
           119,
           120,
           122,
           124,
           126,
           127,
           129,
           129,
           128,
           127,
           129,
           132,
           133,
           133,
           133,
           133,
           131,
           129,
           127,
           126,
           125,
           124,
           122,
           121,
           119,
           118,
           117,
           116,
           114,
           113,
           112,
           110,
           109,
           108,
           106,
           106,
           105,
           100,
           100,
           100,
           98,
           98,
           98,
           98,
           98,
           98,
           97,
           97,
           97,
           97,
           97,
           97,
           97,
           96
          ],
          [
           109,
           111,
           112,
           112,
           113,
           113,
           113,
           114,
           116,
           119,
           121,
           123,
           124,
           125,
           124,
           123,
           123,
           123,
           125,
           127,
           129,
           129,
           128,
           128,
           127,
           125,
           124,
           123,
           122,
           121,
           119,
           118,
           117,
           116,
           114,
           113,
           112,
           110,
           109,
           108,
           107,
           106,
           105,
           100,
           100,
           100,
           97,
           97,
           97,
           97,
           97,
           97,
           97,
           96,
           96,
           96,
           96,
           96,
           96,
           96,
           96
          ],
          [
           106,
           107,
           108,
           108,
           109,
           110,
           110,
           112,
           113,
           114,
           117,
           119,
           120,
           121,
           119,
           117,
           117,
           117,
           118,
           120,
           123,
           124,
           125,
           125,
           125,
           123,
           121,
           120,
           120,
           119,
           118,
           117,
           116,
           115,
           114,
           113,
           111,
           109,
           109,
           107,
           106,
           105,
           100,
           100,
           100,
           96,
           96,
           96,
           96,
           96,
           96,
           96,
           96,
           96,
           96,
           96,
           96,
           96,
           96,
           96,
           96
          ],
          [
           104,
           105,
           105,
           106,
           106,
           107,
           108,
           108,
           109,
           109,
           111,
           115,
           116,
           114,
           113,
           112,
           111,
           110,
           111,
           113,
           116,
           119,
           122,
           122,
           122,
           121,
           120,
           119,
           118,
           118,
           117,
           116,
           115,
           114,
           113,
           112,
           111,
           108,
           108,
           106,
           105,
           100,
           100,
           100,
           96,
           96,
           96,
           96,
           96,
           96,
           96,
           96,
           96,
           96,
           96,
           96,
           96,
           96,
           96,
           96,
           96
          ],
          [
           102,
           103,
           103,
           104,
           104,
           105,
           106,
           106,
           107,
           108,
           109,
           111,
           112,
           110,
           109,
           108,
           108,
           108,
           108,
           109,
           110,
           112,
           116,
           117,
           117,
           118,
           118,
           118,
           117,
           116,
           116,
           115,
           114,
           113,
           112,
           111,
           110,
           107,
           107,
           105,
           100,
           100,
           100,
           97,
           96,
           96,
           96,
           96,
           96,
           96,
           96,
           96,
           96,
           96,
           96,
           96,
           96,
           96,
           96,
           96,
           96
          ],
          [
           101,
           102,
           103,
           103,
           104,
           105,
           105,
           106,
           106,
           107,
           108,
           109,
           109,
           107,
           106,
           106,
           105,
           105,
           105,
           106,
           107,
           108,
           109,
           110,
           111,
           113,
           114,
           115,
           115,
           115,
           114,
           113,
           112,
           111,
           110,
           108,
           108,
           106,
           105,
           100,
           100,
           100,
           97,
           97,
           96,
           96,
           96,
           96,
           96,
           96,
           96,
           96,
           96,
           96,
           96,
           96,
           96,
           96,
           96,
           96,
           96
          ],
          [
           100,
           101,
           102,
           102,
           103,
           103,
           104,
           104,
           105,
           106,
           106,
           107,
           106,
           106,
           106,
           105,
           105,
           104,
           103,
           103,
           104,
           105,
           107,
           108,
           110,
           111,
           111,
           112,
           112,
           113,
           113,
           112,
           111,
           110,
           108,
           107,
           106,
           105,
           100,
           100,
           100,
           98,
           97,
           97,
           96,
           96,
           96,
           96,
           96,
           96,
           96,
           96,
           96,
           96,
           96,
           96,
           96,
           96,
           96,
           96,
           96
          ],
          [
           100,
           101,
           101,
           102,
           102,
           103,
           103,
           104,
           104,
           105,
           105,
           105,
           105,
           106,
           105,
           105,
           104,
           103,
           102,
           101,
           102,
           103,
           104,
           106,
           107,
           110,
           111,
           111,
           111,
           112,
           112,
           112,
           110,
           107,
           107,
           106,
           105,
           102,
           100,
           100,
           99,
           98,
           97,
           97,
           96,
           96,
           96,
           96,
           96,
           96,
           96,
           96,
           96,
           96,
           96,
           96,
           96,
           96,
           96,
           96,
           95
          ],
          [
           99,
           100,
           101,
           102,
           102,
           103,
           103,
           103,
           104,
           104,
           104,
           104,
           103,
           104,
           104,
           104,
           104,
           102,
           101,
           101,
           102,
           103,
           104,
           105,
           107,
           110,
           111,
           111,
           111,
           111,
           111,
           111,
           108,
           106,
           105,
           105,
           102,
           101,
           100,
           99,
           99,
           98,
           97,
           97,
           96,
           96,
           96,
           96,
           96,
           96,
           96,
           96,
           96,
           96,
           96,
           96,
           96,
           96,
           96,
           95,
           95
          ],
          [
           99,
           100,
           100,
           101,
           101,
           102,
           102,
           102,
           103,
           103,
           103,
           103,
           102,
           103,
           103,
           104,
           103,
           102,
           101,
           101,
           101,
           102,
           103,
           104,
           106,
           109,
           110,
           111,
           111,
           111,
           110,
           110,
           107,
           105,
           103,
           104,
           100,
           100,
           99,
           99,
           98,
           98,
           97,
           97,
           96,
           96,
           96,
           96,
           96,
           96,
           96,
           96,
           96,
           96,
           95,
           95,
           95,
           95,
           95,
           95,
           95
          ],
          [
           99,
           100,
           100,
           100,
           101,
           101,
           101,
           102,
           102,
           103,
           102,
           102,
           101,
           102,
           102,
           103,
           103,
           101,
           101,
           100,
           101,
           101,
           102,
           103,
           105,
           109,
           110,
           110,
           111,
           110,
           110,
           109,
           106,
           105,
           100,
           102,
           100,
           99,
           99,
           99,
           98,
           98,
           97,
           97,
           96,
           96,
           96,
           96,
           96,
           96,
           95,
           95,
           95,
           95,
           95,
           95,
           95,
           95,
           95,
           95,
           94
          ],
          [
           99,
           99,
           99,
           99,
           100,
           100,
           101,
           101,
           102,
           102,
           101,
           101,
           101,
           101,
           101,
           102,
           102,
           101,
           100,
           100,
           101,
           101,
           101,
           103,
           104,
           107,
           109,
           109,
           110,
           110,
           109,
           108,
           105,
           102,
           100,
           100,
           99,
           99,
           99,
           98,
           98,
           98,
           97,
           96,
           96,
           96,
           96,
           96,
           95,
           95,
           95,
           95,
           95,
           95,
           95,
           94,
           94,
           94,
           94,
           94,
           94
          ],
          [
           98,
           99,
           99,
           99,
           99,
           100,
           100,
           101,
           101,
           102,
           101,
           100,
           100,
           100,
           101,
           101,
           101,
           100,
           100,
           100,
           100,
           101,
           101,
           101,
           103,
           106,
           107,
           109,
           109,
           109,
           109,
           107,
           104,
           101,
           100,
           99,
           99,
           99,
           98,
           98,
           98,
           97,
           96,
           96,
           96,
           96,
           95,
           95,
           95,
           95,
           95,
           95,
           95,
           94,
           94,
           94,
           94,
           94,
           94,
           94,
           94
          ],
          [
           98,
           98,
           98,
           99,
           99,
           99,
           100,
           100,
           101,
           101,
           100,
           100,
           99,
           99,
           100,
           100,
           100,
           100,
           100,
           100,
           100,
           101,
           101,
           101,
           102,
           105,
           106,
           109,
           108,
           109,
           107,
           105,
           102,
           100,
           100,
           99,
           99,
           98,
           98,
           98,
           97,
           96,
           96,
           96,
           96,
           95,
           95,
           95,
           95,
           95,
           95,
           94,
           94,
           94,
           94,
           94,
           94,
           94,
           94,
           94,
           94
          ],
          [
           97,
           98,
           98,
           98,
           99,
           99,
           99,
           100,
           100,
           100,
           100,
           100,
           99,
           99,
           99,
           100,
           100,
           100,
           100,
           100,
           100,
           100,
           101,
           101,
           101,
           103,
           104,
           105,
           106,
           105,
           104,
           101,
           100,
           100,
           99,
           99,
           98,
           98,
           97,
           97,
           97,
           96,
           96,
           96,
           95,
           95,
           95,
           95,
           95,
           94,
           94,
           94,
           94,
           94,
           94,
           94,
           94,
           94,
           94,
           94,
           94
          ],
          [
           97,
           97,
           97,
           98,
           98,
           99,
           99,
           99,
           100,
           100,
           100,
           99,
           99,
           99,
           99,
           99,
           100,
           100,
           100,
           100,
           100,
           100,
           101,
           101,
           100,
           100,
           100,
           100,
           100,
           100,
           100,
           100,
           100,
           100,
           99,
           99,
           98,
           97,
           97,
           97,
           96,
           96,
           96,
           95,
           95,
           95,
           95,
           94,
           94,
           94,
           94,
           94,
           94,
           94,
           94,
           94,
           94,
           94,
           94,
           94,
           94
          ]
         ]
        }
       ],
       "layout": {
        "template": {
         "data": {
          "bar": [
           {
            "error_x": {
             "color": "#2a3f5f"
            },
            "error_y": {
             "color": "#2a3f5f"
            },
            "marker": {
             "line": {
              "color": "#E5ECF6",
              "width": 0.5
             },
             "pattern": {
              "fillmode": "overlay",
              "size": 10,
              "solidity": 0.2
             }
            },
            "type": "bar"
           }
          ],
          "barpolar": [
           {
            "marker": {
             "line": {
              "color": "#E5ECF6",
              "width": 0.5
             },
             "pattern": {
              "fillmode": "overlay",
              "size": 10,
              "solidity": 0.2
             }
            },
            "type": "barpolar"
           }
          ],
          "carpet": [
           {
            "aaxis": {
             "endlinecolor": "#2a3f5f",
             "gridcolor": "white",
             "linecolor": "white",
             "minorgridcolor": "white",
             "startlinecolor": "#2a3f5f"
            },
            "baxis": {
             "endlinecolor": "#2a3f5f",
             "gridcolor": "white",
             "linecolor": "white",
             "minorgridcolor": "white",
             "startlinecolor": "#2a3f5f"
            },
            "type": "carpet"
           }
          ],
          "choropleth": [
           {
            "colorbar": {
             "outlinewidth": 0,
             "ticks": ""
            },
            "type": "choropleth"
           }
          ],
          "contour": [
           {
            "colorbar": {
             "outlinewidth": 0,
             "ticks": ""
            },
            "colorscale": [
             [
              0,
              "#0d0887"
             ],
             [
              0.1111111111111111,
              "#46039f"
             ],
             [
              0.2222222222222222,
              "#7201a8"
             ],
             [
              0.3333333333333333,
              "#9c179e"
             ],
             [
              0.4444444444444444,
              "#bd3786"
             ],
             [
              0.5555555555555556,
              "#d8576b"
             ],
             [
              0.6666666666666666,
              "#ed7953"
             ],
             [
              0.7777777777777778,
              "#fb9f3a"
             ],
             [
              0.8888888888888888,
              "#fdca26"
             ],
             [
              1,
              "#f0f921"
             ]
            ],
            "type": "contour"
           }
          ],
          "contourcarpet": [
           {
            "colorbar": {
             "outlinewidth": 0,
             "ticks": ""
            },
            "type": "contourcarpet"
           }
          ],
          "heatmap": [
           {
            "colorbar": {
             "outlinewidth": 0,
             "ticks": ""
            },
            "colorscale": [
             [
              0,
              "#0d0887"
             ],
             [
              0.1111111111111111,
              "#46039f"
             ],
             [
              0.2222222222222222,
              "#7201a8"
             ],
             [
              0.3333333333333333,
              "#9c179e"
             ],
             [
              0.4444444444444444,
              "#bd3786"
             ],
             [
              0.5555555555555556,
              "#d8576b"
             ],
             [
              0.6666666666666666,
              "#ed7953"
             ],
             [
              0.7777777777777778,
              "#fb9f3a"
             ],
             [
              0.8888888888888888,
              "#fdca26"
             ],
             [
              1,
              "#f0f921"
             ]
            ],
            "type": "heatmap"
           }
          ],
          "heatmapgl": [
           {
            "colorbar": {
             "outlinewidth": 0,
             "ticks": ""
            },
            "colorscale": [
             [
              0,
              "#0d0887"
             ],
             [
              0.1111111111111111,
              "#46039f"
             ],
             [
              0.2222222222222222,
              "#7201a8"
             ],
             [
              0.3333333333333333,
              "#9c179e"
             ],
             [
              0.4444444444444444,
              "#bd3786"
             ],
             [
              0.5555555555555556,
              "#d8576b"
             ],
             [
              0.6666666666666666,
              "#ed7953"
             ],
             [
              0.7777777777777778,
              "#fb9f3a"
             ],
             [
              0.8888888888888888,
              "#fdca26"
             ],
             [
              1,
              "#f0f921"
             ]
            ],
            "type": "heatmapgl"
           }
          ],
          "histogram": [
           {
            "marker": {
             "pattern": {
              "fillmode": "overlay",
              "size": 10,
              "solidity": 0.2
             }
            },
            "type": "histogram"
           }
          ],
          "histogram2d": [
           {
            "colorbar": {
             "outlinewidth": 0,
             "ticks": ""
            },
            "colorscale": [
             [
              0,
              "#0d0887"
             ],
             [
              0.1111111111111111,
              "#46039f"
             ],
             [
              0.2222222222222222,
              "#7201a8"
             ],
             [
              0.3333333333333333,
              "#9c179e"
             ],
             [
              0.4444444444444444,
              "#bd3786"
             ],
             [
              0.5555555555555556,
              "#d8576b"
             ],
             [
              0.6666666666666666,
              "#ed7953"
             ],
             [
              0.7777777777777778,
              "#fb9f3a"
             ],
             [
              0.8888888888888888,
              "#fdca26"
             ],
             [
              1,
              "#f0f921"
             ]
            ],
            "type": "histogram2d"
           }
          ],
          "histogram2dcontour": [
           {
            "colorbar": {
             "outlinewidth": 0,
             "ticks": ""
            },
            "colorscale": [
             [
              0,
              "#0d0887"
             ],
             [
              0.1111111111111111,
              "#46039f"
             ],
             [
              0.2222222222222222,
              "#7201a8"
             ],
             [
              0.3333333333333333,
              "#9c179e"
             ],
             [
              0.4444444444444444,
              "#bd3786"
             ],
             [
              0.5555555555555556,
              "#d8576b"
             ],
             [
              0.6666666666666666,
              "#ed7953"
             ],
             [
              0.7777777777777778,
              "#fb9f3a"
             ],
             [
              0.8888888888888888,
              "#fdca26"
             ],
             [
              1,
              "#f0f921"
             ]
            ],
            "type": "histogram2dcontour"
           }
          ],
          "mesh3d": [
           {
            "colorbar": {
             "outlinewidth": 0,
             "ticks": ""
            },
            "type": "mesh3d"
           }
          ],
          "parcoords": [
           {
            "line": {
             "colorbar": {
              "outlinewidth": 0,
              "ticks": ""
             }
            },
            "type": "parcoords"
           }
          ],
          "pie": [
           {
            "automargin": true,
            "type": "pie"
           }
          ],
          "scatter": [
           {
            "marker": {
             "colorbar": {
              "outlinewidth": 0,
              "ticks": ""
             }
            },
            "type": "scatter"
           }
          ],
          "scatter3d": [
           {
            "line": {
             "colorbar": {
              "outlinewidth": 0,
              "ticks": ""
             }
            },
            "marker": {
             "colorbar": {
              "outlinewidth": 0,
              "ticks": ""
             }
            },
            "type": "scatter3d"
           }
          ],
          "scattercarpet": [
           {
            "marker": {
             "colorbar": {
              "outlinewidth": 0,
              "ticks": ""
             }
            },
            "type": "scattercarpet"
           }
          ],
          "scattergeo": [
           {
            "marker": {
             "colorbar": {
              "outlinewidth": 0,
              "ticks": ""
             }
            },
            "type": "scattergeo"
           }
          ],
          "scattergl": [
           {
            "marker": {
             "colorbar": {
              "outlinewidth": 0,
              "ticks": ""
             }
            },
            "type": "scattergl"
           }
          ],
          "scattermapbox": [
           {
            "marker": {
             "colorbar": {
              "outlinewidth": 0,
              "ticks": ""
             }
            },
            "type": "scattermapbox"
           }
          ],
          "scatterpolar": [
           {
            "marker": {
             "colorbar": {
              "outlinewidth": 0,
              "ticks": ""
             }
            },
            "type": "scatterpolar"
           }
          ],
          "scatterpolargl": [
           {
            "marker": {
             "colorbar": {
              "outlinewidth": 0,
              "ticks": ""
             }
            },
            "type": "scatterpolargl"
           }
          ],
          "scatterternary": [
           {
            "marker": {
             "colorbar": {
              "outlinewidth": 0,
              "ticks": ""
             }
            },
            "type": "scatterternary"
           }
          ],
          "surface": [
           {
            "colorbar": {
             "outlinewidth": 0,
             "ticks": ""
            },
            "colorscale": [
             [
              0,
              "#0d0887"
             ],
             [
              0.1111111111111111,
              "#46039f"
             ],
             [
              0.2222222222222222,
              "#7201a8"
             ],
             [
              0.3333333333333333,
              "#9c179e"
             ],
             [
              0.4444444444444444,
              "#bd3786"
             ],
             [
              0.5555555555555556,
              "#d8576b"
             ],
             [
              0.6666666666666666,
              "#ed7953"
             ],
             [
              0.7777777777777778,
              "#fb9f3a"
             ],
             [
              0.8888888888888888,
              "#fdca26"
             ],
             [
              1,
              "#f0f921"
             ]
            ],
            "type": "surface"
           }
          ],
          "table": [
           {
            "cells": {
             "fill": {
              "color": "#EBF0F8"
             },
             "line": {
              "color": "white"
             }
            },
            "header": {
             "fill": {
              "color": "#C8D4E3"
             },
             "line": {
              "color": "white"
             }
            },
            "type": "table"
           }
          ]
         },
         "layout": {
          "annotationdefaults": {
           "arrowcolor": "#2a3f5f",
           "arrowhead": 0,
           "arrowwidth": 1
          },
          "autotypenumbers": "strict",
          "coloraxis": {
           "colorbar": {
            "outlinewidth": 0,
            "ticks": ""
           }
          },
          "colorscale": {
           "diverging": [
            [
             0,
             "#8e0152"
            ],
            [
             0.1,
             "#c51b7d"
            ],
            [
             0.2,
             "#de77ae"
            ],
            [
             0.3,
             "#f1b6da"
            ],
            [
             0.4,
             "#fde0ef"
            ],
            [
             0.5,
             "#f7f7f7"
            ],
            [
             0.6,
             "#e6f5d0"
            ],
            [
             0.7,
             "#b8e186"
            ],
            [
             0.8,
             "#7fbc41"
            ],
            [
             0.9,
             "#4d9221"
            ],
            [
             1,
             "#276419"
            ]
           ],
           "sequential": [
            [
             0,
             "#0d0887"
            ],
            [
             0.1111111111111111,
             "#46039f"
            ],
            [
             0.2222222222222222,
             "#7201a8"
            ],
            [
             0.3333333333333333,
             "#9c179e"
            ],
            [
             0.4444444444444444,
             "#bd3786"
            ],
            [
             0.5555555555555556,
             "#d8576b"
            ],
            [
             0.6666666666666666,
             "#ed7953"
            ],
            [
             0.7777777777777778,
             "#fb9f3a"
            ],
            [
             0.8888888888888888,
             "#fdca26"
            ],
            [
             1,
             "#f0f921"
            ]
           ],
           "sequentialminus": [
            [
             0,
             "#0d0887"
            ],
            [
             0.1111111111111111,
             "#46039f"
            ],
            [
             0.2222222222222222,
             "#7201a8"
            ],
            [
             0.3333333333333333,
             "#9c179e"
            ],
            [
             0.4444444444444444,
             "#bd3786"
            ],
            [
             0.5555555555555556,
             "#d8576b"
            ],
            [
             0.6666666666666666,
             "#ed7953"
            ],
            [
             0.7777777777777778,
             "#fb9f3a"
            ],
            [
             0.8888888888888888,
             "#fdca26"
            ],
            [
             1,
             "#f0f921"
            ]
           ]
          },
          "colorway": [
           "#636efa",
           "#EF553B",
           "#00cc96",
           "#ab63fa",
           "#FFA15A",
           "#19d3f3",
           "#FF6692",
           "#B6E880",
           "#FF97FF",
           "#FECB52"
          ],
          "font": {
           "color": "#2a3f5f"
          },
          "geo": {
           "bgcolor": "white",
           "lakecolor": "white",
           "landcolor": "#E5ECF6",
           "showlakes": true,
           "showland": true,
           "subunitcolor": "white"
          },
          "hoverlabel": {
           "align": "left"
          },
          "hovermode": "closest",
          "mapbox": {
           "style": "light"
          },
          "paper_bgcolor": "white",
          "plot_bgcolor": "#E5ECF6",
          "polar": {
           "angularaxis": {
            "gridcolor": "white",
            "linecolor": "white",
            "ticks": ""
           },
           "bgcolor": "#E5ECF6",
           "radialaxis": {
            "gridcolor": "white",
            "linecolor": "white",
            "ticks": ""
           }
          },
          "scene": {
           "xaxis": {
            "backgroundcolor": "#E5ECF6",
            "gridcolor": "white",
            "gridwidth": 2,
            "linecolor": "white",
            "showbackground": true,
            "ticks": "",
            "zerolinecolor": "white"
           },
           "yaxis": {
            "backgroundcolor": "#E5ECF6",
            "gridcolor": "white",
            "gridwidth": 2,
            "linecolor": "white",
            "showbackground": true,
            "ticks": "",
            "zerolinecolor": "white"
           },
           "zaxis": {
            "backgroundcolor": "#E5ECF6",
            "gridcolor": "white",
            "gridwidth": 2,
            "linecolor": "white",
            "showbackground": true,
            "ticks": "",
            "zerolinecolor": "white"
           }
          },
          "shapedefaults": {
           "line": {
            "color": "#2a3f5f"
           }
          },
          "ternary": {
           "aaxis": {
            "gridcolor": "white",
            "linecolor": "white",
            "ticks": ""
           },
           "baxis": {
            "gridcolor": "white",
            "linecolor": "white",
            "ticks": ""
           },
           "bgcolor": "#E5ECF6",
           "caxis": {
            "gridcolor": "white",
            "linecolor": "white",
            "ticks": ""
           }
          },
          "title": {
           "x": 0.05
          },
          "xaxis": {
           "automargin": true,
           "gridcolor": "white",
           "linecolor": "white",
           "ticks": "",
           "title": {
            "standoff": 15
           },
           "zerolinecolor": "white",
           "zerolinewidth": 2
          },
          "yaxis": {
           "automargin": true,
           "gridcolor": "white",
           "linecolor": "white",
           "ticks": "",
           "title": {
            "standoff": 15
           },
           "zerolinecolor": "white",
           "zerolinewidth": 2
          }
         }
        },
        "updatemenus": [
         {
          "buttons": [
           {
            "args": [
             "type",
             "surface"
            ],
            "label": "3D Surface",
            "method": "restyle"
           },
           {
            "args": [
             "type",
             "heatmap"
            ],
            "label": "Heatmap",
            "method": "restyle"
           }
          ]
         }
        ]
       }
      }
     },
     "metadata": {},
     "output_type": "display_data"
    }
   ],
   "source": [
    "import plotly.graph_objects as go\n",
    "\n",
    "import pandas as pd\n",
    "\n",
    "# load dataset\n",
    "df = pd.read_csv(\"https://raw.githubusercontent.com/plotly/datasets/master/volcano.csv\")\n",
    "\n",
    "# create figure\n",
    "fig = go.Figure()\n",
    "\n",
    "\n",
    "fig.add_trace(go.Surface(z=df.values.tolist(), colorscale=\"Viridis\"))\n",
    "\n",
    "# Add dropdown\n",
    "fig.update_layout(\n",
    "    updatemenus=[\n",
    "        dict(\n",
    "            buttons=list([\n",
    "                dict(\n",
    "                    args=[\"type\", \"surface\"],\n",
    "                    label=\"3D Surface\",\n",
    "                    method=\"restyle\"\n",
    "                ),\n",
    "                dict(\n",
    "                    args=[\"type\", \"heatmap\"],\n",
    "                    label=\"Heatmap\",\n",
    "                    method=\"restyle\"\n",
    "                )\n",
    "            ]),\n",
    "        ),\n",
    "    ]\n",
    ")\n",
    "\n",
    "fig.show()"
   ]
  },
  {
   "cell_type": "code",
   "execution_count": null,
   "metadata": {},
   "outputs": [
    {
     "data": {
      "application/vnd.plotly.v1+json": {
       "config": {
        "plotlyServerURL": "https://plot.ly"
       },
       "data": [
        {
         "hovertemplate": "date=%{x}<br>GOOG=%{y}<extra></extra>",
         "legendgroup": "",
         "line": {
          "color": "#636efa",
          "dash": "solid"
         },
         "marker": {
          "symbol": "circle"
         },
         "mode": "lines",
         "name": "",
         "orientation": "v",
         "showlegend": false,
         "type": "scatter",
         "x": [
          "2018-01-01",
          "2018-01-08",
          "2018-01-15",
          "2018-01-22",
          "2018-01-29",
          "2018-02-05",
          "2018-02-12",
          "2018-02-19",
          "2018-02-26",
          "2018-03-05",
          "2018-03-12",
          "2018-03-19",
          "2018-03-26",
          "2018-04-02",
          "2018-04-09",
          "2018-04-16",
          "2018-04-23",
          "2018-04-30",
          "2018-05-07",
          "2018-05-14",
          "2018-05-21",
          "2018-05-28",
          "2018-06-04",
          "2018-06-11",
          "2018-06-18",
          "2018-06-25",
          "2018-07-02",
          "2018-07-09",
          "2018-07-16",
          "2018-07-23",
          "2018-07-30",
          "2018-08-06",
          "2018-08-13",
          "2018-08-20",
          "2018-08-27",
          "2018-09-03",
          "2018-09-10",
          "2018-09-17",
          "2018-09-24",
          "2018-10-01",
          "2018-10-08",
          "2018-10-15",
          "2018-10-22",
          "2018-10-29",
          "2018-11-05",
          "2018-11-12",
          "2018-11-19",
          "2018-11-26",
          "2018-12-03",
          "2018-12-10",
          "2018-12-17",
          "2018-12-24",
          "2018-12-31",
          "2019-01-07",
          "2019-01-14",
          "2019-01-21",
          "2019-01-28",
          "2019-02-04",
          "2019-02-11",
          "2019-02-18",
          "2019-02-25",
          "2019-03-04",
          "2019-03-11",
          "2019-03-18",
          "2019-03-25",
          "2019-04-01",
          "2019-04-08",
          "2019-04-15",
          "2019-04-22",
          "2019-04-29",
          "2019-05-06",
          "2019-05-13",
          "2019-05-20",
          "2019-05-27",
          "2019-06-03",
          "2019-06-10",
          "2019-06-17",
          "2019-06-24",
          "2019-07-01",
          "2019-07-08",
          "2019-07-15",
          "2019-07-22",
          "2019-07-29",
          "2019-08-05",
          "2019-08-12",
          "2019-08-19",
          "2019-08-26",
          "2019-09-02",
          "2019-09-09",
          "2019-09-16",
          "2019-09-23",
          "2019-09-30",
          "2019-10-07",
          "2019-10-14",
          "2019-10-21",
          "2019-10-28",
          "2019-11-04",
          "2019-11-11",
          "2019-11-18",
          "2019-11-25",
          "2019-12-02",
          "2019-12-09",
          "2019-12-16",
          "2019-12-23",
          "2019-12-30"
         ],
         "xaxis": "x",
         "y": [
          1,
          1.018172278347936,
          1.032007866452698,
          1.066782783389724,
          1.0087731636550117,
          0.9415276737437316,
          0.99325918262539,
          1.0222821547641083,
          0.9788520214265992,
          1.0524482730908842,
          1.0303929312465263,
          0.926821104067592,
          0.9360932452590338,
          0.913638710861412,
          0.93380695379017,
          0.9734447261178653,
          0.9345146364100892,
          0.9509902470625956,
          0.9963982380519172,
          0.9674568868105002,
          0.9758943718805396,
          1.015668254641377,
          1.0169111849053498,
          1.0453898287179595,
          1.0483111519067918,
          1.0121753574512644,
          1.0344211867653972,
          1.0785588920381208,
          1.075011617811375,
          1.1236312044424703,
          1.1102129167272332,
          1.1228237368393843,
          1.0895729410299655,
          1.1074367837463466,
          1.1052048693141154,
          1.0567939333314087,
          1.0637798374890872,
          1.0579370795194665,
          1.0827776350267664,
          1.0500077089175164,
          1.007121903906116,
          0.9947651405743836,
          0.9720929301886708,
          0.959681788913054,
          0.9672663993407256,
          0.9630385756700248,
          0.9289168536315806,
          0.992923504040418,
          0.9404389054995582,
          0.945446952912676,
          0.8886892896888904,
          0.9408925313390586,
          0.9714034098401132,
          0.9591373489949891,
          0.9963982380519172,
          0.989802500200548,
          1.0077298024501202,
          0.9934950771344468,
          1.0103608540932627,
          1.0073850422758417,
          1.035165084150587,
          1.0363716889645844,
          1.0746032883264525,
          1.0936918990354445,
          1.064487521016258,
          1.095188886079836,
          1.1049145977684258,
          1.1216987538299403,
          1.1541874899828073,
          1.075456162061569,
          1.0562859304552756,
          1.0544986709579427,
          1.0283425342867192,
          1.001270175031893,
          0.9671666152648106,
          0.98468558802946,
          1.0178275181736574,
          0.980657443195294,
          1.0266368965939394,
          1.0387124690620373,
          1.025285100664745,
          1.1344366027859267,
          1.0832494231376286,
          1.0778240762422375,
          1.068379555417282,
          1.0445098208996275,
          1.0779056980467905,
          1.0931748145700046,
          1.12459294475006,
          1.115856106545024,
          1.1114649285805127,
          1.0968672799119472,
          1.10271900878617,
          1.129972884606169,
          1.1477913211905195,
          1.155602744537941,
          1.189742629754999,
          1.2110630442115171,
          1.1751993590303178,
          1.183927115646047,
          1.216279741365772,
          1.222820990588552,
          1.22441776261611,
          1.2265044859331442,
          1.213013658002661
         ],
         "yaxis": "y"
        }
       ],
       "layout": {
        "legend": {
         "tracegroupgap": 0
        },
        "template": {
         "data": {
          "bar": [
           {
            "error_x": {
             "color": "#2a3f5f"
            },
            "error_y": {
             "color": "#2a3f5f"
            },
            "marker": {
             "line": {
              "color": "#E5ECF6",
              "width": 0.5
             },
             "pattern": {
              "fillmode": "overlay",
              "size": 10,
              "solidity": 0.2
             }
            },
            "type": "bar"
           }
          ],
          "barpolar": [
           {
            "marker": {
             "line": {
              "color": "#E5ECF6",
              "width": 0.5
             },
             "pattern": {
              "fillmode": "overlay",
              "size": 10,
              "solidity": 0.2
             }
            },
            "type": "barpolar"
           }
          ],
          "carpet": [
           {
            "aaxis": {
             "endlinecolor": "#2a3f5f",
             "gridcolor": "white",
             "linecolor": "white",
             "minorgridcolor": "white",
             "startlinecolor": "#2a3f5f"
            },
            "baxis": {
             "endlinecolor": "#2a3f5f",
             "gridcolor": "white",
             "linecolor": "white",
             "minorgridcolor": "white",
             "startlinecolor": "#2a3f5f"
            },
            "type": "carpet"
           }
          ],
          "choropleth": [
           {
            "colorbar": {
             "outlinewidth": 0,
             "ticks": ""
            },
            "type": "choropleth"
           }
          ],
          "contour": [
           {
            "colorbar": {
             "outlinewidth": 0,
             "ticks": ""
            },
            "colorscale": [
             [
              0,
              "#0d0887"
             ],
             [
              0.1111111111111111,
              "#46039f"
             ],
             [
              0.2222222222222222,
              "#7201a8"
             ],
             [
              0.3333333333333333,
              "#9c179e"
             ],
             [
              0.4444444444444444,
              "#bd3786"
             ],
             [
              0.5555555555555556,
              "#d8576b"
             ],
             [
              0.6666666666666666,
              "#ed7953"
             ],
             [
              0.7777777777777778,
              "#fb9f3a"
             ],
             [
              0.8888888888888888,
              "#fdca26"
             ],
             [
              1,
              "#f0f921"
             ]
            ],
            "type": "contour"
           }
          ],
          "contourcarpet": [
           {
            "colorbar": {
             "outlinewidth": 0,
             "ticks": ""
            },
            "type": "contourcarpet"
           }
          ],
          "heatmap": [
           {
            "colorbar": {
             "outlinewidth": 0,
             "ticks": ""
            },
            "colorscale": [
             [
              0,
              "#0d0887"
             ],
             [
              0.1111111111111111,
              "#46039f"
             ],
             [
              0.2222222222222222,
              "#7201a8"
             ],
             [
              0.3333333333333333,
              "#9c179e"
             ],
             [
              0.4444444444444444,
              "#bd3786"
             ],
             [
              0.5555555555555556,
              "#d8576b"
             ],
             [
              0.6666666666666666,
              "#ed7953"
             ],
             [
              0.7777777777777778,
              "#fb9f3a"
             ],
             [
              0.8888888888888888,
              "#fdca26"
             ],
             [
              1,
              "#f0f921"
             ]
            ],
            "type": "heatmap"
           }
          ],
          "heatmapgl": [
           {
            "colorbar": {
             "outlinewidth": 0,
             "ticks": ""
            },
            "colorscale": [
             [
              0,
              "#0d0887"
             ],
             [
              0.1111111111111111,
              "#46039f"
             ],
             [
              0.2222222222222222,
              "#7201a8"
             ],
             [
              0.3333333333333333,
              "#9c179e"
             ],
             [
              0.4444444444444444,
              "#bd3786"
             ],
             [
              0.5555555555555556,
              "#d8576b"
             ],
             [
              0.6666666666666666,
              "#ed7953"
             ],
             [
              0.7777777777777778,
              "#fb9f3a"
             ],
             [
              0.8888888888888888,
              "#fdca26"
             ],
             [
              1,
              "#f0f921"
             ]
            ],
            "type": "heatmapgl"
           }
          ],
          "histogram": [
           {
            "marker": {
             "pattern": {
              "fillmode": "overlay",
              "size": 10,
              "solidity": 0.2
             }
            },
            "type": "histogram"
           }
          ],
          "histogram2d": [
           {
            "colorbar": {
             "outlinewidth": 0,
             "ticks": ""
            },
            "colorscale": [
             [
              0,
              "#0d0887"
             ],
             [
              0.1111111111111111,
              "#46039f"
             ],
             [
              0.2222222222222222,
              "#7201a8"
             ],
             [
              0.3333333333333333,
              "#9c179e"
             ],
             [
              0.4444444444444444,
              "#bd3786"
             ],
             [
              0.5555555555555556,
              "#d8576b"
             ],
             [
              0.6666666666666666,
              "#ed7953"
             ],
             [
              0.7777777777777778,
              "#fb9f3a"
             ],
             [
              0.8888888888888888,
              "#fdca26"
             ],
             [
              1,
              "#f0f921"
             ]
            ],
            "type": "histogram2d"
           }
          ],
          "histogram2dcontour": [
           {
            "colorbar": {
             "outlinewidth": 0,
             "ticks": ""
            },
            "colorscale": [
             [
              0,
              "#0d0887"
             ],
             [
              0.1111111111111111,
              "#46039f"
             ],
             [
              0.2222222222222222,
              "#7201a8"
             ],
             [
              0.3333333333333333,
              "#9c179e"
             ],
             [
              0.4444444444444444,
              "#bd3786"
             ],
             [
              0.5555555555555556,
              "#d8576b"
             ],
             [
              0.6666666666666666,
              "#ed7953"
             ],
             [
              0.7777777777777778,
              "#fb9f3a"
             ],
             [
              0.8888888888888888,
              "#fdca26"
             ],
             [
              1,
              "#f0f921"
             ]
            ],
            "type": "histogram2dcontour"
           }
          ],
          "mesh3d": [
           {
            "colorbar": {
             "outlinewidth": 0,
             "ticks": ""
            },
            "type": "mesh3d"
           }
          ],
          "parcoords": [
           {
            "line": {
             "colorbar": {
              "outlinewidth": 0,
              "ticks": ""
             }
            },
            "type": "parcoords"
           }
          ],
          "pie": [
           {
            "automargin": true,
            "type": "pie"
           }
          ],
          "scatter": [
           {
            "marker": {
             "colorbar": {
              "outlinewidth": 0,
              "ticks": ""
             }
            },
            "type": "scatter"
           }
          ],
          "scatter3d": [
           {
            "line": {
             "colorbar": {
              "outlinewidth": 0,
              "ticks": ""
             }
            },
            "marker": {
             "colorbar": {
              "outlinewidth": 0,
              "ticks": ""
             }
            },
            "type": "scatter3d"
           }
          ],
          "scattercarpet": [
           {
            "marker": {
             "colorbar": {
              "outlinewidth": 0,
              "ticks": ""
             }
            },
            "type": "scattercarpet"
           }
          ],
          "scattergeo": [
           {
            "marker": {
             "colorbar": {
              "outlinewidth": 0,
              "ticks": ""
             }
            },
            "type": "scattergeo"
           }
          ],
          "scattergl": [
           {
            "marker": {
             "colorbar": {
              "outlinewidth": 0,
              "ticks": ""
             }
            },
            "type": "scattergl"
           }
          ],
          "scattermapbox": [
           {
            "marker": {
             "colorbar": {
              "outlinewidth": 0,
              "ticks": ""
             }
            },
            "type": "scattermapbox"
           }
          ],
          "scatterpolar": [
           {
            "marker": {
             "colorbar": {
              "outlinewidth": 0,
              "ticks": ""
             }
            },
            "type": "scatterpolar"
           }
          ],
          "scatterpolargl": [
           {
            "marker": {
             "colorbar": {
              "outlinewidth": 0,
              "ticks": ""
             }
            },
            "type": "scatterpolargl"
           }
          ],
          "scatterternary": [
           {
            "marker": {
             "colorbar": {
              "outlinewidth": 0,
              "ticks": ""
             }
            },
            "type": "scatterternary"
           }
          ],
          "surface": [
           {
            "colorbar": {
             "outlinewidth": 0,
             "ticks": ""
            },
            "colorscale": [
             [
              0,
              "#0d0887"
             ],
             [
              0.1111111111111111,
              "#46039f"
             ],
             [
              0.2222222222222222,
              "#7201a8"
             ],
             [
              0.3333333333333333,
              "#9c179e"
             ],
             [
              0.4444444444444444,
              "#bd3786"
             ],
             [
              0.5555555555555556,
              "#d8576b"
             ],
             [
              0.6666666666666666,
              "#ed7953"
             ],
             [
              0.7777777777777778,
              "#fb9f3a"
             ],
             [
              0.8888888888888888,
              "#fdca26"
             ],
             [
              1,
              "#f0f921"
             ]
            ],
            "type": "surface"
           }
          ],
          "table": [
           {
            "cells": {
             "fill": {
              "color": "#EBF0F8"
             },
             "line": {
              "color": "white"
             }
            },
            "header": {
             "fill": {
              "color": "#C8D4E3"
             },
             "line": {
              "color": "white"
             }
            },
            "type": "table"
           }
          ]
         },
         "layout": {
          "annotationdefaults": {
           "arrowcolor": "#2a3f5f",
           "arrowhead": 0,
           "arrowwidth": 1
          },
          "autotypenumbers": "strict",
          "coloraxis": {
           "colorbar": {
            "outlinewidth": 0,
            "ticks": ""
           }
          },
          "colorscale": {
           "diverging": [
            [
             0,
             "#8e0152"
            ],
            [
             0.1,
             "#c51b7d"
            ],
            [
             0.2,
             "#de77ae"
            ],
            [
             0.3,
             "#f1b6da"
            ],
            [
             0.4,
             "#fde0ef"
            ],
            [
             0.5,
             "#f7f7f7"
            ],
            [
             0.6,
             "#e6f5d0"
            ],
            [
             0.7,
             "#b8e186"
            ],
            [
             0.8,
             "#7fbc41"
            ],
            [
             0.9,
             "#4d9221"
            ],
            [
             1,
             "#276419"
            ]
           ],
           "sequential": [
            [
             0,
             "#0d0887"
            ],
            [
             0.1111111111111111,
             "#46039f"
            ],
            [
             0.2222222222222222,
             "#7201a8"
            ],
            [
             0.3333333333333333,
             "#9c179e"
            ],
            [
             0.4444444444444444,
             "#bd3786"
            ],
            [
             0.5555555555555556,
             "#d8576b"
            ],
            [
             0.6666666666666666,
             "#ed7953"
            ],
            [
             0.7777777777777778,
             "#fb9f3a"
            ],
            [
             0.8888888888888888,
             "#fdca26"
            ],
            [
             1,
             "#f0f921"
            ]
           ],
           "sequentialminus": [
            [
             0,
             "#0d0887"
            ],
            [
             0.1111111111111111,
             "#46039f"
            ],
            [
             0.2222222222222222,
             "#7201a8"
            ],
            [
             0.3333333333333333,
             "#9c179e"
            ],
            [
             0.4444444444444444,
             "#bd3786"
            ],
            [
             0.5555555555555556,
             "#d8576b"
            ],
            [
             0.6666666666666666,
             "#ed7953"
            ],
            [
             0.7777777777777778,
             "#fb9f3a"
            ],
            [
             0.8888888888888888,
             "#fdca26"
            ],
            [
             1,
             "#f0f921"
            ]
           ]
          },
          "colorway": [
           "#636efa",
           "#EF553B",
           "#00cc96",
           "#ab63fa",
           "#FFA15A",
           "#19d3f3",
           "#FF6692",
           "#B6E880",
           "#FF97FF",
           "#FECB52"
          ],
          "font": {
           "color": "#2a3f5f"
          },
          "geo": {
           "bgcolor": "white",
           "lakecolor": "white",
           "landcolor": "#E5ECF6",
           "showlakes": true,
           "showland": true,
           "subunitcolor": "white"
          },
          "hoverlabel": {
           "align": "left"
          },
          "hovermode": "closest",
          "mapbox": {
           "style": "light"
          },
          "paper_bgcolor": "white",
          "plot_bgcolor": "#E5ECF6",
          "polar": {
           "angularaxis": {
            "gridcolor": "white",
            "linecolor": "white",
            "ticks": ""
           },
           "bgcolor": "#E5ECF6",
           "radialaxis": {
            "gridcolor": "white",
            "linecolor": "white",
            "ticks": ""
           }
          },
          "scene": {
           "xaxis": {
            "backgroundcolor": "#E5ECF6",
            "gridcolor": "white",
            "gridwidth": 2,
            "linecolor": "white",
            "showbackground": true,
            "ticks": "",
            "zerolinecolor": "white"
           },
           "yaxis": {
            "backgroundcolor": "#E5ECF6",
            "gridcolor": "white",
            "gridwidth": 2,
            "linecolor": "white",
            "showbackground": true,
            "ticks": "",
            "zerolinecolor": "white"
           },
           "zaxis": {
            "backgroundcolor": "#E5ECF6",
            "gridcolor": "white",
            "gridwidth": 2,
            "linecolor": "white",
            "showbackground": true,
            "ticks": "",
            "zerolinecolor": "white"
           }
          },
          "shapedefaults": {
           "line": {
            "color": "#2a3f5f"
           }
          },
          "ternary": {
           "aaxis": {
            "gridcolor": "white",
            "linecolor": "white",
            "ticks": ""
           },
           "baxis": {
            "gridcolor": "white",
            "linecolor": "white",
            "ticks": ""
           },
           "bgcolor": "#E5ECF6",
           "caxis": {
            "gridcolor": "white",
            "linecolor": "white",
            "ticks": ""
           }
          },
          "title": {
           "x": 0.05
          },
          "xaxis": {
           "automargin": true,
           "gridcolor": "white",
           "linecolor": "white",
           "ticks": "",
           "title": {
            "standoff": 15
           },
           "zerolinecolor": "white",
           "zerolinewidth": 2
          },
          "yaxis": {
           "automargin": true,
           "gridcolor": "white",
           "linecolor": "white",
           "ticks": "",
           "title": {
            "standoff": 15
           },
           "zerolinecolor": "white",
           "zerolinewidth": 2
          }
         }
        },
        "title": {
         "text": "custom tick labels"
        },
        "xaxis": {
         "anchor": "y",
         "domain": [
          0,
          1
         ],
         "dtick": "M1",
         "tickformat": "%b\n%Y",
         "title": {
          "text": "date"
         }
        },
        "yaxis": {
         "anchor": "x",
         "domain": [
          0,
          1
         ],
         "title": {
          "text": "GOOG"
         }
        }
       }
      }
     },
     "metadata": {},
     "output_type": "display_data"
    }
   ],
   "source": [
    "import plotly.express as px\n",
    "df = px.data.stocks()\n",
    "fig = px.line(df, x=\"date\", \n",
    "                y=df[\"GOOG\"],\n",
    "            #   hover_data={\"date\": \"|%B %d, %Y\"},\n",
    "              title='custom tick labels')\n",
    "fig.update_xaxes(\n",
    "    dtick=\"M1\",\n",
    "    tickformat=\"%b\\n%Y\")\n",
    "fig.show()"
   ]
  }
 ],
 "metadata": {
  "interpreter": {
   "hash": "e9f6727800535e87952a05ece25243350d7781250ff4d7058c2f3577918c438f"
  },
  "kernelspec": {
   "display_name": "Python 3.9.7 ('CSC630')",
   "language": "python",
   "name": "python3"
  },
  "language_info": {
   "codemirror_mode": {
    "name": "ipython",
    "version": 3
   },
   "file_extension": ".py",
   "mimetype": "text/x-python",
   "name": "python",
   "nbconvert_exporter": "python",
   "pygments_lexer": "ipython3",
   "version": "3.9.7"
  },
  "orig_nbformat": 4
 },
 "nbformat": 4,
 "nbformat_minor": 2
}
