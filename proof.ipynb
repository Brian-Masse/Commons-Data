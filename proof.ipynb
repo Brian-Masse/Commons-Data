{
 "cells": [
  {
   "cell_type": "code",
   "execution_count": 33,
   "metadata": {},
   "outputs": [],
   "source": [
    "import pandas as pd \n",
    "import plotly.express as px\n",
    "import plotly.graph_objects as go\n",
    "import numpy as np\n",
    "\n",
    "import b_grapher.color as c"
   ]
  },
  {
   "cell_type": "code",
   "execution_count": 34,
   "metadata": {},
   "outputs": [
    {
     "name": "stderr",
     "output_type": "stream",
     "text": [
      "/Users/brianmasse/opt/miniconda3/envs/CSC630/lib/python3.9/site-packages/pandas/core/frame.py:5176: SettingWithCopyWarning:\n",
      "\n",
      "\n",
      "A value is trying to be set on a copy of a slice from a DataFrame\n",
      "\n",
      "See the caveats in the documentation: https://pandas.pydata.org/pandas-docs/stable/user_guide/indexing.html#returning-a-view-versus-a-copy\n",
      "\n"
     ]
    },
    {
     "data": {
      "text/plain": [
       "<bound method NDFrame.head of                  Q2            Q4    Q4_6_TEXT            Q8  \\\n",
       "2       No Response   No Response  No Response   No Response   \n",
       "3             White   No Response  No Response   No Response   \n",
       "4   Native American        Female  No Response   No Response   \n",
       "5             White    Non-Binary  No Response  Heterosexual   \n",
       "6       No Response   No Response  No Response   No Response   \n",
       "7       White,Asian          Male  No Response  Heterosexual   \n",
       "8       No Response   No Response  No Response   No Response   \n",
       "9             Asian  Gender Fluid  No Response      Bisexual   \n",
       "10            Asian        Female  No Response      Bisexual   \n",
       "11            Asian        Female  No Response      Bisexual   \n",
       "12      No Response   No Response  No Response   No Response   \n",
       "13      White,Asian          Male  No Response  Heterosexual   \n",
       "14      No Response   No Response  No Response   No Response   \n",
       "\n",
       "                   Q10   Q10_6_TEXT                       Q9    Q9_8_TEXT  \\\n",
       "2          No Response  No Response              No Response  No Response   \n",
       "3          No Response  No Response              No Response  No Response   \n",
       "4          No Response  No Response              No Response  No Response   \n",
       "5   Upper middle class  No Response             Christianity  No Response   \n",
       "6          No Response  No Response              No Response  No Response   \n",
       "7   Upper middle class  No Response  Other (please describe)  No Response   \n",
       "8          No Response  No Response              No Response  No Response   \n",
       "9   Upper middle class  No Response              No Response  No Response   \n",
       "10         Upper class  No Response              No Response  No Response   \n",
       "11  Upper middle class  No Response     Prefer not to answer  No Response   \n",
       "12         No Response  No Response              No Response  No Response   \n",
       "13  Upper middle class  No Response                     None  No Response   \n",
       "14         No Response  No Response              No Response  No Response   \n",
       "\n",
       "          Q10.1          Q12  ...                         Q35  \\\n",
       "2   No Response  No Response  ...                 No Response   \n",
       "3   No Response  No Response  ...                 No Response   \n",
       "4   No Response  No Response  ...                 No Response   \n",
       "5     Allergies         2023  ...                       Agree   \n",
       "6   No Response  No Response  ...                 No Response   \n",
       "7     Allergies         2022  ...                       Agree   \n",
       "8   No Response  No Response  ...                 No Response   \n",
       "9          None         2023  ...                    Disagree   \n",
       "10         None         2024  ...  Neither Agree nor Disagree   \n",
       "11         None         2023  ...  Neither Agree nor Disagree   \n",
       "12  No Response  No Response  ...                 No Response   \n",
       "13  No Response  No Response  ...                 No Response   \n",
       "14  No Response  No Response  ...                 No Response   \n",
       "\n",
       "                           Q36          Q37                 Q38  Unnamed: 50  \\\n",
       "2                  No Response  No Response         No Response  No Response   \n",
       "3                  No Response  No Response         No Response  No Response   \n",
       "4                  No Response  No Response         No Response  No Response   \n",
       "5                     Disagree     Disagree  2 - 3 times a week  No Response   \n",
       "6                  No Response  No Response         No Response  No Response   \n",
       "7                     Disagree     Disagree          Once a day  No Response   \n",
       "8                  No Response  No Response         No Response  No Response   \n",
       "9                     Disagree        Agree         Once a week  No Response   \n",
       "10  Neither Agree nor Disagree     Disagree         Once a week  No Response   \n",
       "11  Neither Agree nor Disagree        Agree         Once a week  No Response   \n",
       "12                 No Response  No Response         No Response  No Response   \n",
       "13                 No Response  No Response         No Response  No Response   \n",
       "14                 No Response  No Response         No Response  No Response   \n",
       "\n",
       "    Unnamed: 51  Unnamed: 52  Unnamed: 53 intersection   columnName  \n",
       "2   No Response  No Response  No Response    sexuality           Q8  \n",
       "3   No Response  No Response  No Response  No Response  No Response  \n",
       "4   No Response  No Response  No Response  No Response  No Response  \n",
       "5   No Response  No Response  No Response  No Response  No Response  \n",
       "6   No Response  No Response  No Response  No Response  No Response  \n",
       "7   No Response  No Response  No Response  No Response  No Response  \n",
       "8   No Response  No Response  No Response  No Response  No Response  \n",
       "9   No Response  No Response  No Response  No Response  No Response  \n",
       "10  No Response  No Response  No Response  No Response  No Response  \n",
       "11  No Response  No Response  No Response  No Response  No Response  \n",
       "12  No Response  No Response  No Response  No Response  No Response  \n",
       "13  No Response  No Response  No Response  No Response  No Response  \n",
       "14  No Response  No Response  No Response  No Response  No Response  \n",
       "\n",
       "[13 rows x 39 columns]>"
      ]
     },
     "execution_count": 34,
     "metadata": {},
     "output_type": "execute_result"
    }
   ],
   "source": [
    "xls = pd.ExcelFile(\n",
    "    # \"./data/Student and Faculty Commons Survey_February 16, 2022_09.17.xlsx\"\n",
    "    \"./data/Student and Faculty Commons Survey_February 16, 2022_09.17.xlsx\"\n",
    ")\n",
    "\n",
    "data = pd.read_excel( xls, \"Student and Faculty Commons Sur\" )\n",
    "\n",
    "useable_data = data.drop( [0, 1] )\n",
    "useable_data = useable_data.drop( data.columns[0:17], axis=1 )\n",
    "\n",
    "intersections = data[ [\"intersection\", \"columnName\"] ]\n",
    "\n",
    "useable_data.fillna('No Response', inplace=True)    \n",
    "intersections.fillna(\"blank\", inplace=True)    \n",
    "\n",
    "\n",
    "useable_data.head"
   ]
  },
  {
   "cell_type": "code",
   "execution_count": 35,
   "metadata": {},
   "outputs": [],
   "source": [
    "def return_slice_of_elements( element, arr ):\n",
    "    array = arr.copy()\n",
    "    start = array.index(element)\n",
    "    array.reverse()\n",
    "    end = len(array) - 1 - array.index(element)\n",
    "    return ( start, end )"
   ]
  },
  {
   "cell_type": "code",
   "execution_count": 36,
   "metadata": {},
   "outputs": [],
   "source": [
    "def render_graph(question, figure):\n",
    "    traces = []\n",
    "    cooresponding_intersections = []\n",
    "\n",
    "    options = len(useable_data[question])\n",
    "    values = np.full( options, 2 )\n",
    "\n",
    "    buttons = []\n",
    "\n",
    "    # This will put all the traces into a list\n",
    "    for i, intersection in enumerate(intersections[\"columnName\"]):\n",
    "        if not intersection == \"blank\":\n",
    "            fig_data = figure(question, intersection, values, i )\n",
    "            traces += (fig_data)\n",
    "            cooresponding_intersections = list(cooresponding_intersections) + list(np.full(len( fig_data ), str(intersection)).astype(str))\n",
    "\n",
    "\n",
    "    # This add the buttons and intersections to all these traces \n",
    "    for i, intersection in enumerate(intersections[\"columnName\"]):\n",
    "        if not intersection == \"blank\":\n",
    "            rows = intersections[\"columnName\"] == intersection\n",
    "            name = intersections.loc[ rows, \"intersection\" ].item()\n",
    "\n",
    "            visibility = np.full( len(traces), False )\n",
    "\n",
    "            slice = return_slice_of_elements( intersection, cooresponding_intersections) \n",
    "            visibility[slice[0]:slice[1] + 1] = True\n",
    "            cooresponding_intersections.reverse()\n",
    "\n",
    "            buttons.append(dict(label=str(name),\n",
    "                        method=\"update\",\n",
    "                        args=[{\"visible\":visibility}] ))\n",
    "\n",
    "    fig = go.Figure(data=traces)\n",
    "\n",
    "    fig.update_layout(\n",
    "        updatemenus=[\n",
    "            dict(\n",
    "                direction=\"down\",\n",
    "                active=0,\n",
    "                x=0,\n",
    "                y=1,\n",
    "                buttons=list(buttons)\n",
    "            )\n",
    "        ])    \n",
    "\n",
    "    return fig"
   ]
  },
  {
   "cell_type": "code",
   "execution_count": 37,
   "metadata": {},
   "outputs": [],
   "source": [
    "def color_map( intersections ):\n",
    "    returning = {}\n",
    "\n",
    "    arr = useable_data[intersections]\n",
    "\n",
    "    color1 = c.color( 252, 190, 154 )\n",
    "    color2 = c.color( 245, 66, 120 )\n",
    "\n",
    "    length = len( np.unique(arr) )\n",
    "    \n",
    "    i = 1\n",
    "    for intersection in arr:\n",
    "        if not intersection in returning:\n",
    "            color = color1.return_color_between(color2, ( i / length )).return_string_in(\"RGB\")\n",
    "            returning[ intersection ] = color\n",
    "            i += 1\n",
    "    return returning"
   ]
  },
  {
   "cell_type": "code",
   "execution_count": 38,
   "metadata": {},
   "outputs": [],
   "source": [
    "def render_sundial(question, intersection, values, i):\n",
    "    return list(px.sunburst(useable_data, \n",
    "        path=[question, intersection], \n",
    "        values=values,\n",
    "        color=intersection,\n",
    "        color_discrete_map = color_map(intersection)\n",
    "        \n",
    "    ).update_traces(visible=True if i==0 else False).data)\n",
    "\n",
    "def render_bar(question, intersection, values, i):\n",
    "    return list(px.bar(useable_data, \n",
    "        x=question, \n",
    "        y=values, \n",
    "        color=intersection,\n",
    "        color_discrete_map = color_map(intersection)\n",
    "        \n",
    "    ).update_traces(visible=True if i==0 else False).data)"
   ]
  },
  {
   "cell_type": "code",
   "execution_count": 39,
   "metadata": {},
   "outputs": [],
   "source": [
    "def font(size):\n",
    "    return dict(\n",
    "        color=\"aliceblue\",\n",
    "        family=\"Monoid\",\n",
    "        size=size\n",
    "    )\n",
    "\n",
    "layout = dict (\n",
    "    title =  dict(\n",
    "        font=font(15),\n",
    "        text=\"This is a title\",\n",
    "        x = 0.5,\n",
    "    ),\n",
    "    legend= dict(\n",
    "        bgcolor=\"rgb(30, 30, 40)\",\n",
    "        bordercolor=\"rgb(20, 20, 30)\",\n",
    "        borderwidth=7,\n",
    "        font= font(10),\n",
    "        orientation=\"h\",\n",
    "        title = dict(\n",
    "            font=font(15),\n",
    "            # text=\"Legend Title\",\n",
    "        ),\n",
    "    ),\n",
    "    width = 800,\n",
    "    height = 500,\n",
    "    font=font(10),\n",
    "\n",
    "    paper_bgcolor=\"rgb(30, 30, 40)\",\n",
    "    plot_bgcolor=\"rgb(20, 20, 30)\",\n",
    "\n",
    "    yaxis=dict(\n",
    "        gridcolor=\"rgb(10, 10,15)\",\n",
    "        gridwidth=3,\n",
    "        tickangle=90\n",
    "    ),\n",
    "    xaxis=dict(\n",
    "        showgrid=False,\n",
    "        tickangle=0\n",
    "    ),\n",
    "\n",
    "\n",
    "    grid=dict(\n",
    "        columns=1,\n",
    "        rows=1,\n",
    "    ),\n",
    "\n",
    "    bargap=0.2\n",
    "\n",
    "\n",
    ")"
   ]
  },
  {
   "cell_type": "code",
   "execution_count": 40,
   "metadata": {},
   "outputs": [
    {
     "data": {
      "application/vnd.plotly.v1+json": {
       "config": {
        "plotlyServerURL": "https://plot.ly"
       },
       "data": [
        {
         "alignmentgroup": "True",
         "hovertemplate": "Q2=No Response<br>Q14=%{x}<br>y=%{y}<extra></extra>",
         "legendgroup": "No Response",
         "marker": {
          "color": "rgb(250.6,165.2,147.2)",
          "pattern": {
           "shape": ""
          }
         },
         "name": "No Response",
         "offsetgroup": "No Response",
         "orientation": "v",
         "showlegend": true,
         "textposition": "auto",
         "type": "bar",
         "visible": true,
         "x": [
          "No Response",
          "No Response",
          "No Response",
          "No Response",
          "No Response"
         ],
         "xaxis": "x",
         "y": [
          2,
          2,
          2,
          2,
          2
         ],
         "yaxis": "y"
        },
        {
         "alignmentgroup": "True",
         "hovertemplate": "Q2=White<br>Q14=%{x}<br>y=%{y}<extra></extra>",
         "legendgroup": "White",
         "marker": {
          "color": "rgb(249.2,140.4,140.4)",
          "pattern": {
           "shape": ""
          }
         },
         "name": "White",
         "offsetgroup": "White",
         "orientation": "v",
         "showlegend": true,
         "textposition": "auto",
         "type": "bar",
         "visible": true,
         "x": [
          "No Response",
          "Stromboli"
         ],
         "xaxis": "x",
         "y": [
          2,
          2
         ],
         "yaxis": "y"
        },
        {
         "alignmentgroup": "True",
         "hovertemplate": "Q2=Native American<br>Q14=%{x}<br>y=%{y}<extra></extra>",
         "legendgroup": "Native American",
         "marker": {
          "color": "rgb(247.8,115.60000000000001,133.6)",
          "pattern": {
           "shape": ""
          }
         },
         "name": "Native American",
         "offsetgroup": "Native American",
         "orientation": "v",
         "showlegend": true,
         "textposition": "auto",
         "type": "bar",
         "visible": true,
         "x": [
          "No Response"
         ],
         "xaxis": "x",
         "y": [
          2
         ],
         "yaxis": "y"
        },
        {
         "alignmentgroup": "True",
         "hovertemplate": "Q2=White,Asian<br>Q14=%{x}<br>y=%{y}<extra></extra>",
         "legendgroup": "White,Asian",
         "marker": {
          "color": "rgb(246.4,90.8,126.8)",
          "pattern": {
           "shape": ""
          }
         },
         "name": "White,Asian",
         "offsetgroup": "White,Asian",
         "orientation": "v",
         "showlegend": true,
         "textposition": "auto",
         "type": "bar",
         "visible": true,
         "x": [
          "Stir-fry",
          "No Response"
         ],
         "xaxis": "x",
         "y": [
          2,
          2
         ],
         "yaxis": "y"
        },
        {
         "alignmentgroup": "True",
         "hovertemplate": "Q2=Asian<br>Q14=%{x}<br>y=%{y}<extra></extra>",
         "legendgroup": "Asian",
         "marker": {
          "color": "rgb(245.0,66.0,120.0)",
          "pattern": {
           "shape": ""
          }
         },
         "name": "Asian",
         "offsetgroup": "Asian",
         "orientation": "v",
         "showlegend": true,
         "textposition": "auto",
         "type": "bar",
         "visible": true,
         "x": [
          "poke bowls",
          "No Response",
          "Turkey burger"
         ],
         "xaxis": "x",
         "y": [
          2,
          2,
          2
         ],
         "yaxis": "y"
        },
        {
         "alignmentgroup": "True",
         "hovertemplate": "Q4=No Response<br>Q14=%{x}<br>y=%{y}<extra></extra>",
         "legendgroup": "No Response",
         "marker": {
          "color": "rgb(250.6,165.2,147.2)",
          "pattern": {
           "shape": ""
          }
         },
         "name": "No Response",
         "offsetgroup": "No Response",
         "orientation": "v",
         "showlegend": true,
         "textposition": "auto",
         "type": "bar",
         "visible": false,
         "x": [
          "No Response",
          "No Response",
          "No Response",
          "No Response",
          "No Response",
          "No Response"
         ],
         "xaxis": "x",
         "y": [
          2,
          2,
          2,
          2,
          2,
          2
         ],
         "yaxis": "y"
        },
        {
         "alignmentgroup": "True",
         "hovertemplate": "Q4=Female<br>Q14=%{x}<br>y=%{y}<extra></extra>",
         "legendgroup": "Female",
         "marker": {
          "color": "rgb(249.2,140.4,140.4)",
          "pattern": {
           "shape": ""
          }
         },
         "name": "Female",
         "offsetgroup": "Female",
         "orientation": "v",
         "showlegend": true,
         "textposition": "auto",
         "type": "bar",
         "visible": false,
         "x": [
          "No Response",
          "No Response",
          "Turkey burger"
         ],
         "xaxis": "x",
         "y": [
          2,
          2,
          2
         ],
         "yaxis": "y"
        },
        {
         "alignmentgroup": "True",
         "hovertemplate": "Q4=Non-Binary<br>Q14=%{x}<br>y=%{y}<extra></extra>",
         "legendgroup": "Non-Binary",
         "marker": {
          "color": "rgb(247.8,115.60000000000001,133.6)",
          "pattern": {
           "shape": ""
          }
         },
         "name": "Non-Binary",
         "offsetgroup": "Non-Binary",
         "orientation": "v",
         "showlegend": true,
         "textposition": "auto",
         "type": "bar",
         "visible": false,
         "x": [
          "Stromboli"
         ],
         "xaxis": "x",
         "y": [
          2
         ],
         "yaxis": "y"
        },
        {
         "alignmentgroup": "True",
         "hovertemplate": "Q4=Male<br>Q14=%{x}<br>y=%{y}<extra></extra>",
         "legendgroup": "Male",
         "marker": {
          "color": "rgb(246.4,90.8,126.8)",
          "pattern": {
           "shape": ""
          }
         },
         "name": "Male",
         "offsetgroup": "Male",
         "orientation": "v",
         "showlegend": true,
         "textposition": "auto",
         "type": "bar",
         "visible": false,
         "x": [
          "Stir-fry",
          "No Response"
         ],
         "xaxis": "x",
         "y": [
          2,
          2
         ],
         "yaxis": "y"
        },
        {
         "alignmentgroup": "True",
         "hovertemplate": "Q4=Gender Fluid<br>Q14=%{x}<br>y=%{y}<extra></extra>",
         "legendgroup": "Gender Fluid",
         "marker": {
          "color": "rgb(245.0,66.0,120.0)",
          "pattern": {
           "shape": ""
          }
         },
         "name": "Gender Fluid",
         "offsetgroup": "Gender Fluid",
         "orientation": "v",
         "showlegend": true,
         "textposition": "auto",
         "type": "bar",
         "visible": false,
         "x": [
          "poke bowls"
         ],
         "xaxis": "x",
         "y": [
          2
         ],
         "yaxis": "y"
        },
        {
         "alignmentgroup": "True",
         "hovertemplate": "Q8=No Response<br>Q14=%{x}<br>y=%{y}<extra></extra>",
         "legendgroup": "No Response",
         "marker": {
          "color": "rgb(249.66666666666666,148.66666666666669,142.66666666666666)",
          "pattern": {
           "shape": ""
          }
         },
         "name": "No Response",
         "offsetgroup": "No Response",
         "orientation": "v",
         "showlegend": true,
         "textposition": "auto",
         "type": "bar",
         "visible": false,
         "x": [
          "No Response",
          "No Response",
          "No Response",
          "No Response",
          "No Response",
          "No Response",
          "No Response"
         ],
         "xaxis": "x",
         "y": [
          2,
          2,
          2,
          2,
          2,
          2,
          2
         ],
         "yaxis": "y"
        },
        {
         "alignmentgroup": "True",
         "hovertemplate": "Q8=Heterosexual<br>Q14=%{x}<br>y=%{y}<extra></extra>",
         "legendgroup": "Heterosexual",
         "marker": {
          "color": "rgb(247.33333333333334,107.33333333333334,131.33333333333334)",
          "pattern": {
           "shape": ""
          }
         },
         "name": "Heterosexual",
         "offsetgroup": "Heterosexual",
         "orientation": "v",
         "showlegend": true,
         "textposition": "auto",
         "type": "bar",
         "visible": false,
         "x": [
          "Stromboli",
          "Stir-fry",
          "No Response"
         ],
         "xaxis": "x",
         "y": [
          2,
          2,
          2
         ],
         "yaxis": "y"
        },
        {
         "alignmentgroup": "True",
         "hovertemplate": "Q8=Bisexual<br>Q14=%{x}<br>y=%{y}<extra></extra>",
         "legendgroup": "Bisexual",
         "marker": {
          "color": "rgb(245.0,66.0,120.0)",
          "pattern": {
           "shape": ""
          }
         },
         "name": "Bisexual",
         "offsetgroup": "Bisexual",
         "orientation": "v",
         "showlegend": true,
         "textposition": "auto",
         "type": "bar",
         "visible": false,
         "x": [
          "poke bowls",
          "No Response",
          "Turkey burger"
         ],
         "xaxis": "x",
         "y": [
          2,
          2,
          2
         ],
         "yaxis": "y"
        }
       ],
       "layout": {
        "bargap": 0.2,
        "font": {
         "color": "aliceblue",
         "family": "Monoid",
         "size": 10
        },
        "grid": {
         "columns": 1,
         "rows": 1
        },
        "height": 500,
        "legend": {
         "bgcolor": "rgb(30, 30, 40)",
         "bordercolor": "rgb(20, 20, 30)",
         "borderwidth": 7,
         "font": {
          "color": "aliceblue",
          "family": "Monoid",
          "size": 10
         },
         "orientation": "h",
         "title": {
          "font": {
           "color": "aliceblue",
           "family": "Monoid",
           "size": 15
          }
         }
        },
        "paper_bgcolor": "rgb(30, 30, 40)",
        "plot_bgcolor": "rgb(20, 20, 30)",
        "template": {
         "data": {
          "bar": [
           {
            "error_x": {
             "color": "#2a3f5f"
            },
            "error_y": {
             "color": "#2a3f5f"
            },
            "marker": {
             "line": {
              "color": "#E5ECF6",
              "width": 0.5
             },
             "pattern": {
              "fillmode": "overlay",
              "size": 10,
              "solidity": 0.2
             }
            },
            "type": "bar"
           }
          ],
          "barpolar": [
           {
            "marker": {
             "line": {
              "color": "#E5ECF6",
              "width": 0.5
             },
             "pattern": {
              "fillmode": "overlay",
              "size": 10,
              "solidity": 0.2
             }
            },
            "type": "barpolar"
           }
          ],
          "carpet": [
           {
            "aaxis": {
             "endlinecolor": "#2a3f5f",
             "gridcolor": "white",
             "linecolor": "white",
             "minorgridcolor": "white",
             "startlinecolor": "#2a3f5f"
            },
            "baxis": {
             "endlinecolor": "#2a3f5f",
             "gridcolor": "white",
             "linecolor": "white",
             "minorgridcolor": "white",
             "startlinecolor": "#2a3f5f"
            },
            "type": "carpet"
           }
          ],
          "choropleth": [
           {
            "colorbar": {
             "outlinewidth": 0,
             "ticks": ""
            },
            "type": "choropleth"
           }
          ],
          "contour": [
           {
            "colorbar": {
             "outlinewidth": 0,
             "ticks": ""
            },
            "colorscale": [
             [
              0,
              "#0d0887"
             ],
             [
              0.1111111111111111,
              "#46039f"
             ],
             [
              0.2222222222222222,
              "#7201a8"
             ],
             [
              0.3333333333333333,
              "#9c179e"
             ],
             [
              0.4444444444444444,
              "#bd3786"
             ],
             [
              0.5555555555555556,
              "#d8576b"
             ],
             [
              0.6666666666666666,
              "#ed7953"
             ],
             [
              0.7777777777777778,
              "#fb9f3a"
             ],
             [
              0.8888888888888888,
              "#fdca26"
             ],
             [
              1,
              "#f0f921"
             ]
            ],
            "type": "contour"
           }
          ],
          "contourcarpet": [
           {
            "colorbar": {
             "outlinewidth": 0,
             "ticks": ""
            },
            "type": "contourcarpet"
           }
          ],
          "heatmap": [
           {
            "colorbar": {
             "outlinewidth": 0,
             "ticks": ""
            },
            "colorscale": [
             [
              0,
              "#0d0887"
             ],
             [
              0.1111111111111111,
              "#46039f"
             ],
             [
              0.2222222222222222,
              "#7201a8"
             ],
             [
              0.3333333333333333,
              "#9c179e"
             ],
             [
              0.4444444444444444,
              "#bd3786"
             ],
             [
              0.5555555555555556,
              "#d8576b"
             ],
             [
              0.6666666666666666,
              "#ed7953"
             ],
             [
              0.7777777777777778,
              "#fb9f3a"
             ],
             [
              0.8888888888888888,
              "#fdca26"
             ],
             [
              1,
              "#f0f921"
             ]
            ],
            "type": "heatmap"
           }
          ],
          "heatmapgl": [
           {
            "colorbar": {
             "outlinewidth": 0,
             "ticks": ""
            },
            "colorscale": [
             [
              0,
              "#0d0887"
             ],
             [
              0.1111111111111111,
              "#46039f"
             ],
             [
              0.2222222222222222,
              "#7201a8"
             ],
             [
              0.3333333333333333,
              "#9c179e"
             ],
             [
              0.4444444444444444,
              "#bd3786"
             ],
             [
              0.5555555555555556,
              "#d8576b"
             ],
             [
              0.6666666666666666,
              "#ed7953"
             ],
             [
              0.7777777777777778,
              "#fb9f3a"
             ],
             [
              0.8888888888888888,
              "#fdca26"
             ],
             [
              1,
              "#f0f921"
             ]
            ],
            "type": "heatmapgl"
           }
          ],
          "histogram": [
           {
            "marker": {
             "pattern": {
              "fillmode": "overlay",
              "size": 10,
              "solidity": 0.2
             }
            },
            "type": "histogram"
           }
          ],
          "histogram2d": [
           {
            "colorbar": {
             "outlinewidth": 0,
             "ticks": ""
            },
            "colorscale": [
             [
              0,
              "#0d0887"
             ],
             [
              0.1111111111111111,
              "#46039f"
             ],
             [
              0.2222222222222222,
              "#7201a8"
             ],
             [
              0.3333333333333333,
              "#9c179e"
             ],
             [
              0.4444444444444444,
              "#bd3786"
             ],
             [
              0.5555555555555556,
              "#d8576b"
             ],
             [
              0.6666666666666666,
              "#ed7953"
             ],
             [
              0.7777777777777778,
              "#fb9f3a"
             ],
             [
              0.8888888888888888,
              "#fdca26"
             ],
             [
              1,
              "#f0f921"
             ]
            ],
            "type": "histogram2d"
           }
          ],
          "histogram2dcontour": [
           {
            "colorbar": {
             "outlinewidth": 0,
             "ticks": ""
            },
            "colorscale": [
             [
              0,
              "#0d0887"
             ],
             [
              0.1111111111111111,
              "#46039f"
             ],
             [
              0.2222222222222222,
              "#7201a8"
             ],
             [
              0.3333333333333333,
              "#9c179e"
             ],
             [
              0.4444444444444444,
              "#bd3786"
             ],
             [
              0.5555555555555556,
              "#d8576b"
             ],
             [
              0.6666666666666666,
              "#ed7953"
             ],
             [
              0.7777777777777778,
              "#fb9f3a"
             ],
             [
              0.8888888888888888,
              "#fdca26"
             ],
             [
              1,
              "#f0f921"
             ]
            ],
            "type": "histogram2dcontour"
           }
          ],
          "mesh3d": [
           {
            "colorbar": {
             "outlinewidth": 0,
             "ticks": ""
            },
            "type": "mesh3d"
           }
          ],
          "parcoords": [
           {
            "line": {
             "colorbar": {
              "outlinewidth": 0,
              "ticks": ""
             }
            },
            "type": "parcoords"
           }
          ],
          "pie": [
           {
            "automargin": true,
            "type": "pie"
           }
          ],
          "scatter": [
           {
            "marker": {
             "colorbar": {
              "outlinewidth": 0,
              "ticks": ""
             }
            },
            "type": "scatter"
           }
          ],
          "scatter3d": [
           {
            "line": {
             "colorbar": {
              "outlinewidth": 0,
              "ticks": ""
             }
            },
            "marker": {
             "colorbar": {
              "outlinewidth": 0,
              "ticks": ""
             }
            },
            "type": "scatter3d"
           }
          ],
          "scattercarpet": [
           {
            "marker": {
             "colorbar": {
              "outlinewidth": 0,
              "ticks": ""
             }
            },
            "type": "scattercarpet"
           }
          ],
          "scattergeo": [
           {
            "marker": {
             "colorbar": {
              "outlinewidth": 0,
              "ticks": ""
             }
            },
            "type": "scattergeo"
           }
          ],
          "scattergl": [
           {
            "marker": {
             "colorbar": {
              "outlinewidth": 0,
              "ticks": ""
             }
            },
            "type": "scattergl"
           }
          ],
          "scattermapbox": [
           {
            "marker": {
             "colorbar": {
              "outlinewidth": 0,
              "ticks": ""
             }
            },
            "type": "scattermapbox"
           }
          ],
          "scatterpolar": [
           {
            "marker": {
             "colorbar": {
              "outlinewidth": 0,
              "ticks": ""
             }
            },
            "type": "scatterpolar"
           }
          ],
          "scatterpolargl": [
           {
            "marker": {
             "colorbar": {
              "outlinewidth": 0,
              "ticks": ""
             }
            },
            "type": "scatterpolargl"
           }
          ],
          "scatterternary": [
           {
            "marker": {
             "colorbar": {
              "outlinewidth": 0,
              "ticks": ""
             }
            },
            "type": "scatterternary"
           }
          ],
          "surface": [
           {
            "colorbar": {
             "outlinewidth": 0,
             "ticks": ""
            },
            "colorscale": [
             [
              0,
              "#0d0887"
             ],
             [
              0.1111111111111111,
              "#46039f"
             ],
             [
              0.2222222222222222,
              "#7201a8"
             ],
             [
              0.3333333333333333,
              "#9c179e"
             ],
             [
              0.4444444444444444,
              "#bd3786"
             ],
             [
              0.5555555555555556,
              "#d8576b"
             ],
             [
              0.6666666666666666,
              "#ed7953"
             ],
             [
              0.7777777777777778,
              "#fb9f3a"
             ],
             [
              0.8888888888888888,
              "#fdca26"
             ],
             [
              1,
              "#f0f921"
             ]
            ],
            "type": "surface"
           }
          ],
          "table": [
           {
            "cells": {
             "fill": {
              "color": "#EBF0F8"
             },
             "line": {
              "color": "white"
             }
            },
            "header": {
             "fill": {
              "color": "#C8D4E3"
             },
             "line": {
              "color": "white"
             }
            },
            "type": "table"
           }
          ]
         },
         "layout": {
          "annotationdefaults": {
           "arrowcolor": "#2a3f5f",
           "arrowhead": 0,
           "arrowwidth": 1
          },
          "autotypenumbers": "strict",
          "coloraxis": {
           "colorbar": {
            "outlinewidth": 0,
            "ticks": ""
           }
          },
          "colorscale": {
           "diverging": [
            [
             0,
             "#8e0152"
            ],
            [
             0.1,
             "#c51b7d"
            ],
            [
             0.2,
             "#de77ae"
            ],
            [
             0.3,
             "#f1b6da"
            ],
            [
             0.4,
             "#fde0ef"
            ],
            [
             0.5,
             "#f7f7f7"
            ],
            [
             0.6,
             "#e6f5d0"
            ],
            [
             0.7,
             "#b8e186"
            ],
            [
             0.8,
             "#7fbc41"
            ],
            [
             0.9,
             "#4d9221"
            ],
            [
             1,
             "#276419"
            ]
           ],
           "sequential": [
            [
             0,
             "#0d0887"
            ],
            [
             0.1111111111111111,
             "#46039f"
            ],
            [
             0.2222222222222222,
             "#7201a8"
            ],
            [
             0.3333333333333333,
             "#9c179e"
            ],
            [
             0.4444444444444444,
             "#bd3786"
            ],
            [
             0.5555555555555556,
             "#d8576b"
            ],
            [
             0.6666666666666666,
             "#ed7953"
            ],
            [
             0.7777777777777778,
             "#fb9f3a"
            ],
            [
             0.8888888888888888,
             "#fdca26"
            ],
            [
             1,
             "#f0f921"
            ]
           ],
           "sequentialminus": [
            [
             0,
             "#0d0887"
            ],
            [
             0.1111111111111111,
             "#46039f"
            ],
            [
             0.2222222222222222,
             "#7201a8"
            ],
            [
             0.3333333333333333,
             "#9c179e"
            ],
            [
             0.4444444444444444,
             "#bd3786"
            ],
            [
             0.5555555555555556,
             "#d8576b"
            ],
            [
             0.6666666666666666,
             "#ed7953"
            ],
            [
             0.7777777777777778,
             "#fb9f3a"
            ],
            [
             0.8888888888888888,
             "#fdca26"
            ],
            [
             1,
             "#f0f921"
            ]
           ]
          },
          "colorway": [
           "#636efa",
           "#EF553B",
           "#00cc96",
           "#ab63fa",
           "#FFA15A",
           "#19d3f3",
           "#FF6692",
           "#B6E880",
           "#FF97FF",
           "#FECB52"
          ],
          "font": {
           "color": "#2a3f5f"
          },
          "geo": {
           "bgcolor": "white",
           "lakecolor": "white",
           "landcolor": "#E5ECF6",
           "showlakes": true,
           "showland": true,
           "subunitcolor": "white"
          },
          "hoverlabel": {
           "align": "left"
          },
          "hovermode": "closest",
          "mapbox": {
           "style": "light"
          },
          "paper_bgcolor": "white",
          "plot_bgcolor": "#E5ECF6",
          "polar": {
           "angularaxis": {
            "gridcolor": "white",
            "linecolor": "white",
            "ticks": ""
           },
           "bgcolor": "#E5ECF6",
           "radialaxis": {
            "gridcolor": "white",
            "linecolor": "white",
            "ticks": ""
           }
          },
          "scene": {
           "xaxis": {
            "backgroundcolor": "#E5ECF6",
            "gridcolor": "white",
            "gridwidth": 2,
            "linecolor": "white",
            "showbackground": true,
            "ticks": "",
            "zerolinecolor": "white"
           },
           "yaxis": {
            "backgroundcolor": "#E5ECF6",
            "gridcolor": "white",
            "gridwidth": 2,
            "linecolor": "white",
            "showbackground": true,
            "ticks": "",
            "zerolinecolor": "white"
           },
           "zaxis": {
            "backgroundcolor": "#E5ECF6",
            "gridcolor": "white",
            "gridwidth": 2,
            "linecolor": "white",
            "showbackground": true,
            "ticks": "",
            "zerolinecolor": "white"
           }
          },
          "shapedefaults": {
           "line": {
            "color": "#2a3f5f"
           }
          },
          "ternary": {
           "aaxis": {
            "gridcolor": "white",
            "linecolor": "white",
            "ticks": ""
           },
           "baxis": {
            "gridcolor": "white",
            "linecolor": "white",
            "ticks": ""
           },
           "bgcolor": "#E5ECF6",
           "caxis": {
            "gridcolor": "white",
            "linecolor": "white",
            "ticks": ""
           }
          },
          "title": {
           "x": 0.05
          },
          "xaxis": {
           "automargin": true,
           "gridcolor": "white",
           "linecolor": "white",
           "ticks": "",
           "title": {
            "standoff": 15
           },
           "zerolinecolor": "white",
           "zerolinewidth": 2
          },
          "yaxis": {
           "automargin": true,
           "gridcolor": "white",
           "linecolor": "white",
           "ticks": "",
           "title": {
            "standoff": 15
           },
           "zerolinecolor": "white",
           "zerolinewidth": 2
          }
         }
        },
        "title": {
         "font": {
          "color": "aliceblue",
          "family": "Monoid",
          "size": 15
         },
         "text": "This is a title",
         "x": 0.5
        },
        "updatemenus": [
         {
          "active": 0,
          "buttons": [
           {
            "args": [
             {
              "visible": [
               true,
               true,
               true,
               true,
               true,
               false,
               false,
               false,
               false,
               false,
               false,
               false,
               false
              ]
             },
             {
              "title": "What Racial / Ethnic groups do you identify with (select all that apply)?"
             }
            ],
            "label": "Race",
            "method": "update"
           },
           {
            "args": [
             {
              "visible": [
               false,
               false,
               false,
               true,
               true,
               true,
               true,
               true,
               false,
               false,
               false,
               false,
               false
              ]
             },
             {
              "title": "What gender do you identify yourself as? - Selected Choice"
             }
            ],
            "label": "Gender",
            "method": "update"
           },
           {
            "args": [
             {
              "visible": [
               false,
               false,
               false,
               false,
               false,
               false,
               false,
               false,
               false,
               false,
               true,
               true,
               true
              ]
             },
             {
              "title": "What is your sexuality?"
             }
            ],
            "label": "sexuality",
            "method": "update"
           }
          ],
          "direction": "down",
          "x": 0,
          "y": 1
         }
        ],
        "width": 800,
        "xaxis": {
         "showgrid": false,
         "tickangle": 0
        },
        "yaxis": {
         "gridcolor": "rgb(10, 10,15)",
         "gridwidth": 3,
         "tickangle": 90
        }
       }
      }
     },
     "metadata": {},
     "output_type": "display_data"
    }
   ],
   "source": [
    "graph = render_graph(\"Q14\", render_bar)\n",
    "graph.update_layout(layout)"
   ]
  }
 ],
 "metadata": {
  "interpreter": {
   "hash": "e9f6727800535e87952a05ece25243350d7781250ff4d7058c2f3577918c438f"
  },
  "kernelspec": {
   "display_name": "Python 3.9.7 ('CSC630')",
   "language": "python",
   "name": "python3"
  },
  "language_info": {
   "codemirror_mode": {
    "name": "ipython",
    "version": 3
   },
   "file_extension": ".py",
   "mimetype": "text/x-python",
   "name": "python",
   "nbconvert_exporter": "python",
   "pygments_lexer": "ipython3",
   "version": "3.9.7"
  },
  "orig_nbformat": 4
 },
 "nbformat": 4,
 "nbformat_minor": 2
}
